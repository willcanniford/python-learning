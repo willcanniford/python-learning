{
 "cells": [
  {
   "cell_type": "markdown",
   "metadata": {},
   "source": [
    "## Writing and defining functions\n",
    "When programming you are using functions most of the time. You want to be able to package your code into easy-to-understand packets that you can use later without having to do complex processes. This is one way in which you can both increase the readability of your code, which is especially important when working with others, and decrease the amount of code that you write (DRY). <br>\n",
    "I'll just create some simple examples of functions that don't have arguments, print, return, return multiple values, print and return, have multiple arguments, have default arguments etc.  \n",
    "<br>\n",
    "- - - -"
   ]
  },
  {
   "cell_type": "code",
   "execution_count": 1,
   "metadata": {},
   "outputs": [
    {
     "name": "stdout",
     "output_type": "stream",
     "text": [
      "Hello!\n"
     ]
    }
   ],
   "source": [
    "# Very simple function that just prints \n",
    "def greet():\n",
    "    print('Hello!')\n",
    "    \n",
    "greet()"
   ]
  },
  {
   "cell_type": "markdown",
   "metadata": {},
   "source": [
    "The above function `greet` demonstrates the basic structure of functions. <br>\n",
    "The `def` keyword defines the name of the function; in the above case, greet. The parentheses are necessary, and would contain arguments to the function, if we had any here. <br>\n",
    "The `:` marks the end of this first line where we define the function name and, optional, arguments. The second line, and subsequent lines, that follows should be indented so that python knows that that part of the code is to be executed: the code block. This is the meat of the function where you actually code what the function is going to do. <br>\n",
    "Doc strings are another important part of more complex functions as they are the documentation that makes it clearer as to what the function is doing. Important when the code is going to be read by others.  \n",
    "<br>\n",
    "When you want to execute the function, and end the definition stage then you remove the indent. "
   ]
  }
 ],
 "metadata": {
  "kernelspec": {
   "display_name": "Python 3",
   "language": "python",
   "name": "python3"
  },
  "language_info": {
   "codemirror_mode": {
    "name": "ipython",
    "version": 3
   },
   "file_extension": ".py",
   "mimetype": "text/x-python",
   "name": "python",
   "nbconvert_exporter": "python",
   "pygments_lexer": "ipython3",
   "version": "3.6.5"
  }
 },
 "nbformat": 4,
 "nbformat_minor": 2
}
