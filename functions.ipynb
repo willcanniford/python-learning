{
 "cells": [
  {
   "cell_type": "markdown",
   "metadata": {},
   "source": [
    "## Writing and defining functions\n",
    "When programming you are using functions most of the time. You want to be able to package your code into easy-to-understand packets that you can use later without having to do complex processes. This is one way in which you can both increase the readability of your code, which is especially important when working with others, and decrease the amount of code that you write (DRY). <br>\n",
    "I'll just create some simple examples of functions that don't have arguments, print, return, return multiple values, print and return, have multiple arguments, have default arguments etc.  \n",
    "<br>\n",
    "- - - -"
   ]
  },
  {
   "cell_type": "code",
   "execution_count": 1,
   "metadata": {},
   "outputs": [
    {
     "name": "stdout",
     "output_type": "stream",
     "text": [
      "Hello!\n"
     ]
    }
   ],
   "source": [
    "# Very simple function that just prints \n",
    "def greet():\n",
    "    print('Hello!')\n",
    "    \n",
    "greet()"
   ]
  },
  {
   "cell_type": "markdown",
   "metadata": {},
   "source": [
    "The above function `greet` demonstrates the basic structure of functions. <br>\n",
    "The `def` keyword defines the name of the function; in the above case, greet. The parentheses are necessary, and would contain arguments to the function, if we had any here. <br>\n",
    "The `:` marks the end of this first line where we define the function name and, optional, arguments. The second line, and subsequent lines, that follows should be indented so that python knows that that part of the code is to be executed: the code block. This is the meat of the function where you actually code what the function is going to do. <br>\n",
    "Doc strings are another important part of more complex functions as they are the documentation that makes it clearer as to what the function is doing. Important when the code is going to be read by others.  \n",
    "<br>\n",
    "When you want to execute the function, and end the definition stage then you remove the indent.  \n",
    "<br>\n",
    "- - - -  \n",
    "Obviously, you are going to need to create much more complicated functions than this when working with real data. You are going to have to build functions that take in information, do something to that information, and then return the desired output.  \n",
    "They will need to take arguments, and they may need to return multiple results.  "
   ]
  },
  {
   "cell_type": "code",
   "execution_count": 2,
   "metadata": {},
   "outputs": [
    {
     "name": "stdout",
     "output_type": "stream",
     "text": [
      "96\n"
     ]
    }
   ],
   "source": [
    "def product(a, b):\n",
    "    \"\"\"This function will return the product of a and b\"\"\"\n",
    "    return a * b\n",
    "\n",
    "result = product(8, 12)\n",
    "print(result)"
   ]
  },
  {
   "cell_type": "markdown",
   "metadata": {},
   "source": [
    "I have taken the chance to define another function: `product()`.  \n",
    "This function takes two numbers and simply returns the product of those two numbers. This is still a very simple function, but is a step in the right direction to making more complicated processes encapsulated and much more reusable.  \n",
    "<br>\n",
    "You can see that I have included some doc strings in this function as well. This documentation is important and tells the user what the function does. As functions get more complicated, this becomes more important so that the user doesn't have to spend a lot of time going through the code line by line to try and work out what your function is doing. "
   ]
  },
  {
   "cell_type": "code",
   "execution_count": 3,
   "metadata": {},
   "outputs": [
    {
     "name": "stdout",
     "output_type": "stream",
     "text": [
      "(30, 11)\n"
     ]
    }
   ],
   "source": [
    "def product_and_sum(a, b):\n",
    "    \"\"\"Returns the product, then the sum of a and b\"\"\"\n",
    "    return (a*b, a+b)\n",
    "\n",
    "results = product_and_sum(5, 6)\n",
    "print(results)"
   ]
  },
  {
   "cell_type": "markdown",
   "metadata": {},
   "source": [
    "A common way to return multiple values from a function is use a tuple. A tuple is a good way to return the results as they are immutable. This means that once they have been constructed you aren't able to change the values within them. "
   ]
  },
  {
   "cell_type": "code",
   "execution_count": 4,
   "metadata": {},
   "outputs": [
    {
     "name": "stdout",
     "output_type": "stream",
     "text": [
      "(30, 11)\n"
     ]
    },
    {
     "ename": "TypeError",
     "evalue": "'tuple' object does not support item assignment",
     "output_type": "error",
     "traceback": [
      "\u001b[0;31m---------------------------------------------------------------------------\u001b[0m",
      "\u001b[0;31mTypeError\u001b[0m                                 Traceback (most recent call last)",
      "\u001b[0;32m<ipython-input-4-fd67df476076>\u001b[0m in \u001b[0;36m<module>\u001b[0;34m()\u001b[0m\n\u001b[1;32m      1\u001b[0m \u001b[0;31m# Example\u001b[0m\u001b[0;34m\u001b[0m\u001b[0;34m\u001b[0m\u001b[0m\n\u001b[1;32m      2\u001b[0m \u001b[0mprint\u001b[0m\u001b[0;34m(\u001b[0m\u001b[0mresults\u001b[0m\u001b[0;34m)\u001b[0m\u001b[0;34m\u001b[0m\u001b[0m\n\u001b[0;32m----> 3\u001b[0;31m \u001b[0mresults\u001b[0m\u001b[0;34m[\u001b[0m\u001b[0;36m0\u001b[0m\u001b[0;34m]\u001b[0m \u001b[0;34m=\u001b[0m \u001b[0;36m20\u001b[0m\u001b[0;34m\u001b[0m\u001b[0m\n\u001b[0m",
      "\u001b[0;31mTypeError\u001b[0m: 'tuple' object does not support item assignment"
     ]
    }
   ],
   "source": [
    "# Example\n",
    "print(results)\n",
    "results[0] = 20"
   ]
  },
  {
   "cell_type": "markdown",
   "metadata": {},
   "source": [
    "You can see that we throw an error here when we try to assign a new value to the results that we generated when calling the function. If those results where stored in a list, however, you can see below how we are able to assign a new value to a part of that list. "
   ]
  },
  {
   "cell_type": "code",
   "execution_count": null,
   "metadata": {},
   "outputs": [],
   "source": [
    "list_results = [30,11]\n",
    "print(list_results)\n",
    "list_results[0] = 20\n",
    "print(list_results)"
   ]
  }
 ],
 "metadata": {
  "kernelspec": {
   "display_name": "Python 3",
   "language": "python",
   "name": "python3"
  },
  "language_info": {
   "codemirror_mode": {
    "name": "ipython",
    "version": 3
   },
   "file_extension": ".py",
   "mimetype": "text/x-python",
   "name": "python",
   "nbconvert_exporter": "python",
   "pygments_lexer": "ipython3",
   "version": "3.6.5"
  }
 },
 "nbformat": 4,
 "nbformat_minor": 2
}
