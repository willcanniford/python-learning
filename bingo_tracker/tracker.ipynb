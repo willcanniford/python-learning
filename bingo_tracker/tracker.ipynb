{
 "cells": [
  {
   "cell_type": "code",
   "execution_count": 34,
   "metadata": {},
   "outputs": [],
   "source": [
    "import matplotlib.pyplot as plt\n",
    "import numpy as np\n",
    "import pandas as pd\n",
    "from matplotlib.patches import Rectangle\n",
    "from matplotlib.patches import Circle"
   ]
  },
  {
   "cell_type": "code",
   "execution_count": 4,
   "metadata": {},
   "outputs": [
    {
     "data": {
      "text/plain": [
       "array([['15', '18', '43', '50', '67'],\n",
       "       ['5', '23', '39', '55', '71'],\n",
       "       ['10', '28', 'Free', '48', '68'],\n",
       "       ['14', '27', '32', '49', '63'],\n",
       "       ['9', '25', '37', '58', '74']], dtype='<U21')"
      ]
     },
     "execution_count": 4,
     "metadata": {},
     "output_type": "execute_result"
    }
   ],
   "source": [
    "my_numbers = np.array([\n",
    "    [15,18,43,50,67],\n",
    "    [5,23,39,55,71],\n",
    "    [10,28,'Free',48,68],\n",
    "    [14,27,32,49,63],\n",
    "    [9,25,37,58,74]\n",
    "])\n",
    "\n",
    "my_numbers"
   ]
  },
  {
   "cell_type": "code",
   "execution_count": 60,
   "metadata": {},
   "outputs": [
    {
     "data": {
      "image/png": "[encoded data removed]",
      "text/plain": [
       "<Figure size 432x432 with 1 Axes>"
      ]
     },
     "metadata": {
      "needs_background": "light"
     },
     "output_type": "display_data"
    }
   ],
   "source": [
    "fig, ax = plt.subplots(figsize=(6,6))\n",
    "\n",
    "ax.set_ylim([-4.5, 0.5])\n",
    "ax.set_xlim([-0.5, 4.5])\n",
    "ax.set_aspect('equal')\n",
    "\n",
    "ax.set_xticks([0.5, 1.5, 2.5, 3.5])\n",
    "ax.set_yticks([-3.5, -2.5, -1.5, -0.5])\n",
    "ax.xaxis.set_ticklabels([])\n",
    "ax.yaxis.set_ticklabels([])\n",
    "\n",
    "for axi in (ax.xaxis, ax.yaxis):\n",
    "    for tic in axi.get_major_ticks():\n",
    "        tic.tick1line.set_visible(False)\n",
    "        tic.tick2line.set_visible(False)\n",
    "                \n",
    "ax.grid(True)\n",
    "\n",
    "circle = Circle((2, -2), 0.45, fill=True, edgecolor='black')\n",
    "circle.set_facecolor('#2ecc71')\n",
    "\n",
    "\n",
    "for row_index, row in enumerate(my_numbers):\n",
    "    for column_index, cell in enumerate(row):\n",
    "        ax.add_patch(circle)\n",
    "        \n",
    "        ax.scatter(column_index, -row_index, alpha=0)\n",
    "        ax.text(x = column_index, \n",
    "                y = -row_index, \n",
    "                s = cell,\n",
    "                ha=\"center\", \n",
    "                va=\"center\", \n",
    "                fontsize=14, \n",
    "                color='black')"
   ]
  }
 ],
 "metadata": {
  "kernelspec": {
   "display_name": "Python 3",
   "language": "python",
   "name": "python3"
  },
  "language_info": {
   "codemirror_mode": {
    "name": "ipython",
    "version": 3
   },
   "file_extension": ".py",
   "mimetype": "text/x-python",
   "name": "python",
   "nbconvert_exporter": "python",
   "pygments_lexer": "ipython3",
   "version": "3.7.6"
  }
 },
 "nbformat": 4,
 "nbformat_minor": 4
}
