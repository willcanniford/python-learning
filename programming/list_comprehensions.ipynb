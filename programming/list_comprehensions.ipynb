{
 "cells": [
  {
   "cell_type": "markdown",
   "metadata": {},
   "source": [
    "# List comprehensions and generators\n",
    "List comprehensions are a succinct and efficient way of performing things across iterables (objects that can be iterated over) that are capable of collapsing for loops into a single of code. They can additionally be used to filter both the iterator itself, as well as the output depending on a condition.  \n",
    "<br>\n",
    "The general structure of a list comprehension can be thought of as follows:\n",
    "- iterable \n",
    "- iterable variable that represents a member of the iterable\n",
    "- output variable (this is what is collected for the output)  \n",
    "\n",
    "`[output expression for iterable variable in iterable]`\n",
    "  \n",
    "<br>\n",
    "A simple example of where this might be used is illustrated below in the creation of a new list that is the squared version of a list of numbers. "
   ]
  },
  {
   "cell_type": "code",
   "execution_count": 1,
   "metadata": {},
   "outputs": [
    {
     "name": "stdout",
     "output_type": "stream",
     "text": [
      "[1, 9, 16, 144, 100, 361, 49, 4]\n"
     ]
    }
   ],
   "source": [
    "numbers = [1, 3, 4, 12, 10, 19, 7, 2]\n",
    "numbers_squared = [num ** 2 for num in numbers]\n",
    "print(numbers_squared)"
   ]
  },
  {
   "cell_type": "markdown",
   "metadata": {},
   "source": [
    "Since list comprehensions work with all iterables, you could use this with other objects types such as range objects:"
   ]
  },
  {
   "cell_type": "code",
   "execution_count": 2,
   "metadata": {},
   "outputs": [
    {
     "name": "stdout",
     "output_type": "stream",
     "text": [
      "[0, 1, 8, 27, 64, 125, 216, 343, 512, 729, 1000, 1331, 1728, 2197, 2744]\n"
     ]
    }
   ],
   "source": [
    "cubed_numbers = [i ** 3 for i in range(15)]\n",
    "print(cubed_numbers)"
   ]
  },
  {
   "cell_type": "code",
   "execution_count": 3,
   "metadata": {},
   "outputs": [
    {
     "name": "stdout",
     "output_type": "stream",
     "text": [
      "<class 'list'>\n",
      "<class 'list'>\n"
     ]
    }
   ],
   "source": [
    "print(type(numbers_squared))\n",
    "print(type(cubed_numbers))"
   ]
  },
  {
   "cell_type": "markdown",
   "metadata": {},
   "source": [
    "You can see from the code above that both of the resulting list comprehensions have returned a list themselves. This doesn't always have to be the case, however, and you can alter the syntax to return other outputs such as dictionaries and generators. "
   ]
  },
  {
   "cell_type": "code",
   "execution_count": 4,
   "metadata": {},
   "outputs": [
    {
     "name": "stdout",
     "output_type": "stream",
     "text": [
      "{1: 1, 2: 8, 3: 27, 4: 64, 5: 125, 6: 216, 7: 343, 8: 512, 9: 729, 10: 1000}\n",
      "<class 'dict'>\n"
     ]
    }
   ],
   "source": [
    "cubed_dict = {i: i ** 3 for i in range(1,11)}\n",
    "print(cubed_dict)\n",
    "print(type(cubed_dict))"
   ]
  },
  {
   "cell_type": "markdown",
   "metadata": {},
   "source": [
    "In this example it has allowed me to the store the int as the key to the corresponding cubed value.  \n",
    "<br>\n",
    "## Nested list comprehensions\n",
    "It is possible to nest list comprehensions to generate the same output that would otherwise be achieved by nesting for loops within one another. "
   ]
  },
  {
   "cell_type": "code",
   "execution_count": 5,
   "metadata": {},
   "outputs": [
    {
     "data": {
      "text/plain": [
       "[[0, 1, 2, 3, 4],\n",
       " [0, 1, 2, 3, 4],\n",
       " [0, 1, 2, 3, 4],\n",
       " [0, 1, 2, 3, 4],\n",
       " [0, 1, 2, 3, 4]]"
      ]
     },
     "execution_count": 5,
     "metadata": {},
     "output_type": "execute_result"
    }
   ],
   "source": [
    "matrix = []\n",
    "for i in range(5):\n",
    "    row = []\n",
    "    for j in range(5):\n",
    "        row.append(j)\n",
    "    matrix.append(row)\n",
    "matrix"
   ]
  },
  {
   "cell_type": "markdown",
   "metadata": {},
   "source": [
    "This isn't the most succinct or clean way to generate a 5x5 matrix. I will make some improvements before creating the same output using just a single list comprehension. "
   ]
  },
  {
   "cell_type": "code",
   "execution_count": 6,
   "metadata": {},
   "outputs": [
    {
     "data": {
      "text/plain": [
       "[[0, 1, 2, 3, 4],\n",
       " [0, 1, 2, 3, 4],\n",
       " [0, 1, 2, 3, 4],\n",
       " [0, 1, 2, 3, 4],\n",
       " [0, 1, 2, 3, 4]]"
      ]
     },
     "execution_count": 6,
     "metadata": {},
     "output_type": "execute_result"
    }
   ],
   "source": [
    "matrix = []\n",
    "for i in range(5):\n",
    "    matrix.append([i for i in range(5)])\n",
    "matrix"
   ]
  },
  {
   "cell_type": "markdown",
   "metadata": {},
   "source": [
    "Here I have simply replaced one variable definition and loop with a list comprehension that can generate the row `[0,1,2,3,4]` for me within the append. "
   ]
  },
  {
   "cell_type": "code",
   "execution_count": 7,
   "metadata": {},
   "outputs": [
    {
     "data": {
      "text/plain": [
       "[[0, 1, 2, 3, 4],\n",
       " [0, 1, 2, 3, 4],\n",
       " [0, 1, 2, 3, 4],\n",
       " [0, 1, 2, 3, 4],\n",
       " [0, 1, 2, 3, 4]]"
      ]
     },
     "execution_count": 7,
     "metadata": {},
     "output_type": "execute_result"
    }
   ],
   "source": [
    "[[i for i in range(5)] for i in range(5)]"
   ]
  },
  {
   "cell_type": "markdown",
   "metadata": {},
   "source": [
    "We have then gone another level out and generated the correct number of iterations using another list comprehension. This can essentially be read as for each number in 1-5, make me a list of the numbers 0-4.  \n",
    "## Advanced comprehensions and conditionals \n",
    "We can also include conditionals into our list comprehensions to further control its actions. "
   ]
  },
  {
   "cell_type": "code",
   "execution_count": 8,
   "metadata": {},
   "outputs": [
    {
     "data": {
      "text/plain": [
       "['', 2, '', 4, '', 6, '', 8, '', 10]"
      ]
     },
     "execution_count": 8,
     "metadata": {},
     "output_type": "execute_result"
    }
   ],
   "source": [
    "[num if num % 2 == 0 else '' for num in range(1,11)]"
   ]
  },
  {
   "cell_type": "code",
   "execution_count": 9,
   "metadata": {},
   "outputs": [
    {
     "data": {
      "text/plain": [
       "[2, 4, 6, 8, 10]"
      ]
     },
     "execution_count": 9,
     "metadata": {},
     "output_type": "execute_result"
    }
   ],
   "source": [
    "[num for num in range(1,11) if num % 2 == 0]"
   ]
  },
  {
   "cell_type": "markdown",
   "metadata": {},
   "source": [
    "You can immediately notice the difference between the first and second outputs. This is dependent on where the conditional is placed within the list comprehension. The first filters the output depending on a conditonal; this is changing the output expression. The latter only passes those values that meet a certain condition in the iterable as it is iterated through. They can, of course, be used together. "
   ]
  },
  {
   "cell_type": "code",
   "execution_count": 10,
   "metadata": {},
   "outputs": [
    {
     "data": {
      "text/plain": [
       "['', '', 6, '', '', 12, '', '', 18]"
      ]
     },
     "execution_count": 10,
     "metadata": {},
     "output_type": "execute_result"
    }
   ],
   "source": [
    "[num if num % 3 == 0 else '' for num in range(1,20) if num % 2 == 0]"
   ]
  },
  {
   "cell_type": "markdown",
   "metadata": {},
   "source": [
    "The above code only returns even number through filtering the iterable, and then limits the printed output to those also divisible by 3.  \n",
    "## Generators \n",
    "Generators are very similar to list comprehensions. From a syntactical point of view, you must change the `[]` brackets to `()` parentheses. "
   ]
  },
  {
   "cell_type": "code",
   "execution_count": 11,
   "metadata": {},
   "outputs": [
    {
     "name": "stdout",
     "output_type": "stream",
     "text": [
      "<class 'list'>\n",
      "<class 'generator'>\n"
     ]
    }
   ],
   "source": [
    "print(type([num for num in range(5)]))\n",
    "print(type((num for num in range(5))))"
   ]
  },
  {
   "cell_type": "markdown",
   "metadata": {},
   "source": [
    "A `generator` object is like a list comprehension apart from that it doesn't store the list in memory. It doesn't actually produce the list, but rather produces an iterable that we are able to iterate over and allows us to create elements of the list as required. This is done using iterable syntax such as `next(generator)` "
   ]
  },
  {
   "cell_type": "code",
   "execution_count": 12,
   "metadata": {},
   "outputs": [],
   "source": [
    "generator_numbers = (num for num in range(10))"
   ]
  },
  {
   "cell_type": "code",
   "execution_count": 13,
   "metadata": {},
   "outputs": [
    {
     "data": {
      "text/plain": [
       "0"
      ]
     },
     "execution_count": 13,
     "metadata": {},
     "output_type": "execute_result"
    }
   ],
   "source": [
    "next(generator_numbers)"
   ]
  },
  {
   "cell_type": "code",
   "execution_count": 14,
   "metadata": {},
   "outputs": [
    {
     "data": {
      "text/plain": [
       "1"
      ]
     },
     "execution_count": 14,
     "metadata": {},
     "output_type": "execute_result"
    }
   ],
   "source": [
    "next(generator_numbers)"
   ]
  },
  {
   "cell_type": "markdown",
   "metadata": {},
   "source": [
    "As you call next on an iterable, in this case a generator, the lowest case is popped off. This means that you can no longer access that value again without first redefining the iterable again. "
   ]
  },
  {
   "cell_type": "code",
   "execution_count": 15,
   "metadata": {},
   "outputs": [
    {
     "data": {
      "text/plain": [
       "0"
      ]
     },
     "execution_count": 15,
     "metadata": {},
     "output_type": "execute_result"
    }
   ],
   "source": [
    "generator_numbers = (num for num in range(10))\n",
    "next(generator_numbers)"
   ]
  },
  {
   "cell_type": "markdown",
   "metadata": {},
   "source": [
    "This is sometimes known as *lazy evaluation* where the evaluation of the expression isn't actually performed until that value itself is needed.  \n",
    "This is useful when the list that you are working with is too large to work with in memory, so you are forced to generate those values as you need them through the `next()` method.  \n",
    "\n",
    "### Generator functions\n",
    "These are functions that when called produce generator objects.  \n",
    "You define them as you normally would with the `def` keyword. Instead of `return`, however, you use the `yield` keyword to add them to the sequence that is retained within the generator object. "
   ]
  },
  {
   "cell_type": "code",
   "execution_count": 16,
   "metadata": {},
   "outputs": [
    {
     "data": {
      "text/plain": [
       "generator"
      ]
     },
     "execution_count": 16,
     "metadata": {},
     "output_type": "execute_result"
    }
   ],
   "source": [
    "def num_seq(n):\n",
    "    \"\"\" Generate the values 0 to n\"\"\"\n",
    "    i = 0\n",
    "    while i < n:\n",
    "        yield i\n",
    "        i += 1\n",
    "        \n",
    "result = num_seq(100)\n",
    "type(result)"
   ]
  },
  {
   "cell_type": "code",
   "execution_count": 17,
   "metadata": {},
   "outputs": [
    {
     "data": {
      "text/plain": [
       "[0, 5, 10, 15, 20, 25, 30, 35, 40, 45, 50, 55, 60, 65, 70, 75, 80, 85, 90, 95]"
      ]
     },
     "execution_count": 17,
     "metadata": {},
     "output_type": "execute_result"
    }
   ],
   "source": [
    "[number for number in result if number % 5 == 0]"
   ]
  }
 ],
 "metadata": {
  "kernelspec": {
   "display_name": "Python 3",
   "language": "python",
   "name": "python3"
  },
  "language_info": {
   "codemirror_mode": {
    "name": "ipython",
    "version": 3
   },
   "file_extension": ".py",
   "mimetype": "text/x-python",
   "name": "python",
   "nbconvert_exporter": "python",
   "pygments_lexer": "ipython3",
   "version": "3.6.5"
  }
 },
 "nbformat": 4,
 "nbformat_minor": 2
}
