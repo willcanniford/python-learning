{
 "cells": [
  {
   "cell_type": "markdown",
   "metadata": {},
   "source": [
    "# Linear Regression\n",
    "Interested to implement the basics of the r pearsons coefficient in steps, then comparing to the functions that are readily available in `scipy`. "
   ]
  },
  {
   "cell_type": "code",
   "execution_count": 65,
   "metadata": {},
   "outputs": [],
   "source": [
    "import numpy as np \n",
    "import scipy.stats\n",
    "import matplotlib.pyplot as plt"
   ]
  },
  {
   "cell_type": "code",
   "execution_count": 56,
   "metadata": {},
   "outputs": [],
   "source": [
    "x = [1,2,3,4,5]\n",
    "y = [1,1.92,3.1,4.2,5]"
   ]
  },
  {
   "cell_type": "code",
   "execution_count": 57,
   "metadata": {},
   "outputs": [],
   "source": [
    "x_bar = np.mean(x)\n",
    "y_bar = np.mean(y)"
   ]
  },
  {
   "cell_type": "code",
   "execution_count": 58,
   "metadata": {},
   "outputs": [],
   "source": [
    "def my_standard_deviation(x):\n",
    "    x_bar = np.mean(x)\n",
    "    x_bar_diff = x - x_bar\n",
    "    x_bar_diff_squared = x_bar_diff ** 2\n",
    "    return np.sqrt((1 / len(x)) * np.sum(x_bar_diff_squared))"
   ]
  },
  {
   "cell_type": "code",
   "execution_count": 92,
   "metadata": {},
   "outputs": [],
   "source": [
    "x_standard = (x - x_bar) / my_standard_deviation(x)\n",
    "y_standard = (y - y_bar) / my_standard_deviation(y)\n",
    "r = (1 / len(x)) * np.sum(x_standard * y_standard)\n",
    "coef = r * (my_standard_deviation(y) / my_standard_deviation(x))\n",
    "y_intercept = y_bar - (x_bar * coef)"
   ]
  },
  {
   "cell_type": "code",
   "execution_count": 93,
   "metadata": {},
   "outputs": [
    {
     "data": {
      "text/plain": [
       "(0.998165516998159, 1.028, -0.04000000000000048)"
      ]
     },
     "execution_count": 93,
     "metadata": {},
     "output_type": "execute_result"
    }
   ],
   "source": [
    "(r, coef, y_intercept)"
   ]
  },
  {
   "cell_type": "code",
   "execution_count": 96,
   "metadata": {},
   "outputs": [],
   "source": [
    "def linear_regression(x, y):\n",
    "    x_bar = np.mean(x)\n",
    "    y_bar = np.mean(y)\n",
    "    x_standard = (x - x_bar) / my_standard_deviation(x)\n",
    "    y_standard = (y - y_bar) / my_standard_deviation(y)\n",
    "    r = (1 / len(x)) * np.sum(x_standard * y_standard)\n",
    "    coef = r * (my_standard_deviation(y) / my_standard_deviation(x))\n",
    "    y_intercept = y_bar - (x_bar * coef)\n",
    "    return (r, coef, y_intercept)"
   ]
  },
  {
   "cell_type": "code",
   "execution_count": 98,
   "metadata": {},
   "outputs": [],
   "source": [
    "r, coef, y_intercept = linear_regression(x, y)"
   ]
  },
  {
   "cell_type": "code",
   "execution_count": 48,
   "metadata": {},
   "outputs": [
    {
     "data": {
      "text/plain": [
       "array([[1.        , 0.99816552],\n",
       "       [0.99816552, 1.        ]])"
      ]
     },
     "execution_count": 48,
     "metadata": {},
     "output_type": "execute_result"
    }
   ],
   "source": [
    "np.corrcoef(x, y)"
   ]
  },
  {
   "cell_type": "code",
   "execution_count": 63,
   "metadata": {},
   "outputs": [],
   "source": [
    "r_value, p_value = scipy.stats.pearsonr(x, y)    "
   ]
  },
  {
   "cell_type": "code",
   "execution_count": 64,
   "metadata": {},
   "outputs": [
    {
     "data": {
      "text/plain": [
       "True"
      ]
     },
     "execution_count": 64,
     "metadata": {},
     "output_type": "execute_result"
    }
   ],
   "source": [
    "round(r_value, 6) == round(r, 6)"
   ]
  },
  {
   "cell_type": "code",
   "execution_count": 68,
   "metadata": {},
   "outputs": [],
   "source": [
    "res = scipy.stats.linregress(x, y)"
   ]
  },
  {
   "cell_type": "code",
   "execution_count": 71,
   "metadata": {},
   "outputs": [
    {
     "data": {
      "text/plain": [
       "LinregressResult(slope=1.0280000000000002, intercept=-0.040000000000000924, rvalue=0.9981655169981593, pvalue=9.429417246762242e-05, stderr=0.035999999999997444)"
      ]
     },
     "execution_count": 71,
     "metadata": {},
     "output_type": "execute_result"
    }
   ],
   "source": [
    "res"
   ]
  },
  {
   "cell_type": "code",
   "execution_count": 99,
   "metadata": {},
   "outputs": [
    {
     "data": {
      "image/png": "[encoded data removed]",
      "text/plain": [
       "<Figure size 432x288 with 1 Axes>"
      ]
     },
     "metadata": {
      "needs_background": "light"
     },
     "output_type": "display_data"
    }
   ],
   "source": [
    "plt.scatter(x, y, label='data')\n",
    "plt.plot(x, res.intercept + res.slope * np.array(x), 'r', alpha=0.5, label='scipy fitted line')\n",
    "plt.plot(x, y_intercept + coef * np.array(x), 'g', alpha=0.5, label='my fitted line')\n",
    "plt.legend()\n",
    "plt.show()"
   ]
  },
  {
   "cell_type": "markdown",
   "metadata": {},
   "source": [
    "---"
   ]
  },
  {
   "cell_type": "code",
   "execution_count": 101,
   "metadata": {},
   "outputs": [],
   "source": [
    "np.random.seed(12345678)\n",
    "x = np.random.random(10)\n",
    "y = 1.6*x + np.random.random(10)\n",
    "res = scipy.stats.linregress(x, y)\n",
    "r, coef, y_intercept = linear_regression(x, y)"
   ]
  },
  {
   "cell_type": "code",
   "execution_count": 102,
   "metadata": {},
   "outputs": [
    {
     "data": {
      "image/png": "[encoded data removed]",
      "text/plain": [
       "<Figure size 432x288 with 1 Axes>"
      ]
     },
     "metadata": {
      "needs_background": "light"
     },
     "output_type": "display_data"
    }
   ],
   "source": [
    "plt.scatter(x, y, label='data')\n",
    "plt.plot(x, res.intercept + res.slope * np.array(x), 'r', alpha=0.5, label='scipy fitted line')\n",
    "plt.plot(x, y_intercept + coef * np.array(x), 'g', alpha=0.5, label='my fitted line')\n",
    "plt.legend()\n",
    "plt.show()"
   ]
  },
  {
   "cell_type": "markdown",
   "metadata": {},
   "source": [
    "---"
   ]
  },
  {
   "cell_type": "code",
   "execution_count": 103,
   "metadata": {},
   "outputs": [
    {
     "data": {
      "image/png": "[encoded data removed]",
      "text/plain": [
       "<Figure size 432x288 with 1 Axes>"
      ]
     },
     "metadata": {
      "needs_background": "light"
     },
     "output_type": "display_data"
    }
   ],
   "source": [
    "np.random.seed(12345678)\n",
    "x = np.random.random(45)\n",
    "y = 1.34*x + np.random.random(45)\n",
    "res = scipy.stats.linregress(x, y)\n",
    "r, coef, y_intercept = linear_regression(x, y)\n",
    "\n",
    "plt.scatter(x, y, label='data')\n",
    "plt.plot(x, res.intercept + res.slope * np.array(x), 'r', alpha=0.5, label='scipy fitted line')\n",
    "plt.plot(x, y_intercept + coef * np.array(x), 'g', alpha=0.5, label='my fitted line')\n",
    "plt.legend()\n",
    "plt.show()"
   ]
  },
  {
   "cell_type": "markdown",
   "metadata": {},
   "source": [
    "---"
   ]
  },
  {
   "cell_type": "code",
   "execution_count": 128,
   "metadata": {},
   "outputs": [
    {
     "data": {
      "text/plain": [
       "array([0.25      , 0.59642861, 0.35879163, 0.37891011, 0.25      ,\n",
       "       0.25      , 0.38793433, 0.68054104, 0.75      , 0.75      ,\n",
       "       0.25      , 0.25      , 0.75      , 0.72174137, 0.25      ,\n",
       "       0.51146167, 0.25      , 0.39414268, 0.75      , 0.30490851,\n",
       "       0.75      , 0.73470598, 0.75      , 0.25      , 0.75      ,\n",
       "       0.56071559, 0.75      , 0.73901448, 0.75      , 0.68295495,\n",
       "       0.75      , 0.25      , 0.57268435, 0.63025742, 0.25      ,\n",
       "       0.26280257, 0.73001576, 0.75      , 0.32464631, 0.27664068,\n",
       "       0.25      , 0.40988343, 0.75      , 0.25      , 0.25      ])"
      ]
     },
     "execution_count": 128,
     "metadata": {},
     "output_type": "execute_result"
    }
   ],
   "source": [
    "np.clip(x, 0.25, 0.75)"
   ]
  },
  {
   "cell_type": "code",
   "execution_count": 135,
   "metadata": {},
   "outputs": [
    {
     "data": {
      "image/png": "[encoded data removed]",
      "text/plain": [
       "<Figure size 432x288 with 1 Axes>"
      ]
     },
     "metadata": {
      "needs_background": "light"
     },
     "output_type": "display_data"
    }
   ],
   "source": [
    "np.random.seed(12345678)\n",
    "x = np.random.random(45)\n",
    "y = np.clip(1.5*x + np.random.random(45), 0.5, 1.5)\n",
    "res = scipy.stats.linregress(x, y)\n",
    "r, coef, y_intercept = linear_regression(x, y)\n",
    "\n",
    "plt.scatter(x, y, label='data')\n",
    "plt.plot(x, res.intercept + res.slope * np.array(x), 'r', alpha=0.5, label='scipy fitted line')\n",
    "plt.plot(x, y_intercept + coef * np.array(x), 'g', alpha=0.5, label='my fitted line')\n",
    "plt.legend()\n",
    "plt.show()"
   ]
  }
 ],
 "metadata": {
  "kernelspec": {
   "display_name": "Python 3",
   "language": "python",
   "name": "python3"
  },
  "language_info": {
   "codemirror_mode": {
    "name": "ipython",
    "version": 3
   },
   "file_extension": ".py",
   "mimetype": "text/x-python",
   "name": "python",
   "nbconvert_exporter": "python",
   "pygments_lexer": "ipython3",
   "version": "3.7.5"
  }
 },
 "nbformat": 4,
 "nbformat_minor": 4
}
