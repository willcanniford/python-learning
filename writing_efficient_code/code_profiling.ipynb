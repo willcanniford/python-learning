{
 "cells": [
  {
   "cell_type": "markdown",
   "metadata": {},
   "source": [
    "# Code profiling\n",
    "## Code profiling for time\n",
    "This is a method that dictates for how long and when different parts of a program are executed. It allows us to profile individual lines of the code, without having to use magic commands like [`%timeit`](evaluating_runtime.ipynb).  \n",
    "\n",
    "This notebook focusses on using the [`line_profiler`](https://github.com/rkern/line_profiler) package to analyse a functions runtime line-by-line. This is a separate package from the Python standard library and, therefore, has to be installed separately. \n",
    "\n",
    "> `pip install line_profiler`  \n",
    "> `conda install line_profiler`"
   ]
  },
  {
   "cell_type": "markdown",
   "metadata": {},
   "source": [
    "We need to load the profiler into the session, we can do so with the `%load_ext` command. "
   ]
  },
  {
   "cell_type": "code",
   "execution_count": 1,
   "metadata": {},
   "outputs": [],
   "source": [
    "import numpy as np\n",
    "%load_ext line_profiler"
   ]
  },
  {
   "cell_type": "markdown",
   "metadata": {},
   "source": [
    "This means that we now have `%lprun` available to us, and using the `-f` argument means that we are looking to profile a function. "
   ]
  },
  {
   "cell_type": "code",
   "execution_count": 2,
   "metadata": {},
   "outputs": [],
   "source": [
    "def my_function(list, multiplier):\n",
    "    new_list = [x * multiplier for x in list]\n",
    "    return(new_list)"
   ]
  },
  {
   "cell_type": "code",
   "execution_count": 3,
   "metadata": {},
   "outputs": [
    {
     "data": {
      "text/plain": [
       "Timer unit: 1e-06 s\n",
       "\n",
       "Total time: 0.001637 s\n",
       "File: <ipython-input-2-cba267c5990a>\n",
       "Function: my_function at line 1\n",
       "\n",
       "Line #      Hits         Time  Per Hit   % Time  Line Contents\n",
       "==============================================================\n",
       "     1                                           def my_function(list, multiplier):\n",
       "     2         1       1634.0   1634.0     99.8      new_list = [x * multiplier for x in list]\n",
       "     3         1          3.0      3.0      0.2      return(new_list)"
      ]
     },
     "metadata": {},
     "output_type": "display_data"
    }
   ],
   "source": [
    "%lprun -f my_function my_function(np.random.rand(1000), 3)"
   ]
  },
  {
   "cell_type": "code",
   "execution_count": 4,
   "metadata": {},
   "outputs": [],
   "source": [
    "def my_function_2(list, multiplier):\n",
    "    array = np.array(list)\n",
    "    new_list = array * multiplier\n",
    "    return(new_list)"
   ]
  },
  {
   "cell_type": "code",
   "execution_count": 5,
   "metadata": {},
   "outputs": [
    {
     "data": {
      "text/plain": [
       "Timer unit: 1e-06 s\n",
       "\n",
       "Total time: 0.000114 s\n",
       "File: <ipython-input-4-a1120cf5b569>\n",
       "Function: my_function_2 at line 1\n",
       "\n",
       "Line #      Hits         Time  Per Hit   % Time  Line Contents\n",
       "==============================================================\n",
       "     1                                           def my_function_2(list, multiplier):\n",
       "     2         1         72.0     72.0     63.2      array = np.array(list)\n",
       "     3         1         41.0     41.0     36.0      new_list = array * multiplier\n",
       "     4         1          1.0      1.0      0.9      return(new_list)"
      ]
     },
     "metadata": {},
     "output_type": "display_data"
    }
   ],
   "source": [
    "%lprun -f my_function_2 my_function_2(np.random.rand(1000), 3)"
   ]
  }
 ],
 "metadata": {
  "kernelspec": {
   "display_name": "Python 3",
   "language": "python",
   "name": "python3"
  },
  "language_info": {
   "codemirror_mode": {
    "name": "ipython",
    "version": 3
   },
   "file_extension": ".py",
   "mimetype": "text/x-python",
   "name": "python",
   "nbconvert_exporter": "python",
   "pygments_lexer": "ipython3",
   "version": "3.7.5"
  }
 },
 "nbformat": 4,
 "nbformat_minor": 4
}
