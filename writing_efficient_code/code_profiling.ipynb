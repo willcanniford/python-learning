{
 "cells": [
  {
   "cell_type": "markdown",
   "metadata": {},
   "source": [
    "# Code profiling\n",
    "## Code profiling for time\n",
    "This is a method that dictates for how long and when different parts of a program are executed. It allows us to profile individual lines of the code, without having to use magic commands like [`%timeit`](evaluating_runtime.ipynb).  \n",
    "\n",
    "This notebook focusses on using the [`line_profiler`](https://github.com/rkern/line_profiler) package to analyse a functions runtime line-by-line. This is a separate package from the Python standard library and, therefore, has to be installed separately. \n",
    "\n",
    "> `pip install line_profiler`  \n",
    "> `conda install line_profiler`"
   ]
  },
  {
   "cell_type": "markdown",
   "metadata": {},
   "source": [
    "We need to load the profiler into the session, we can do so with the `%load_ext` command. "
   ]
  },
  {
   "cell_type": "code",
   "execution_count": 1,
   "metadata": {},
   "outputs": [],
   "source": [
    "import numpy as np\n",
    "%load_ext line_profiler"
   ]
  },
  {
   "cell_type": "markdown",
   "metadata": {},
   "source": [
    "This means that we now have `%lprun` available to us, and using the `-f` argument means that we are looking to profile a function. "
   ]
  },
  {
   "cell_type": "code",
   "execution_count": 2,
   "metadata": {},
   "outputs": [],
   "source": [
    "def my_function(list, multiplier):\n",
    "    new_list = [x * multiplier for x in list]\n",
    "    return(new_list)"
   ]
  },
  {
   "cell_type": "code",
   "execution_count": 3,
   "metadata": {},
   "outputs": [
    {
     "data": {
      "text/plain": [
       "Timer unit: 1e-06 s\n",
       "\n",
       "Total time: 0.001064 s\n",
       "File: <ipython-input-2-cba267c5990a>\n",
       "Function: my_function at line 1\n",
       "\n",
       "Line #      Hits         Time  Per Hit   % Time  Line Contents\n",
       "==============================================================\n",
       "     1                                           def my_function(list, multiplier):\n",
       "     2         1       1061.0   1061.0     99.7      new_list = [x * multiplier for x in list]\n",
       "     3         1          3.0      3.0      0.3      return(new_list)"
      ]
     },
     "metadata": {},
     "output_type": "display_data"
    }
   ],
   "source": [
    "%lprun -f my_function my_function(np.random.rand(1000), 3)"
   ]
  },
  {
   "cell_type": "code",
   "execution_count": 4,
   "metadata": {},
   "outputs": [],
   "source": [
    "def my_function_2(list, multiplier):\n",
    "    array = np.array(list)\n",
    "    new_list = array * multiplier\n",
    "    return(new_list)"
   ]
  },
  {
   "cell_type": "code",
   "execution_count": 5,
   "metadata": {},
   "outputs": [
    {
     "data": {
      "text/plain": [
       "Timer unit: 1e-06 s\n",
       "\n",
       "Total time: 6.1e-05 s\n",
       "File: <ipython-input-4-a1120cf5b569>\n",
       "Function: my_function_2 at line 1\n",
       "\n",
       "Line #      Hits         Time  Per Hit   % Time  Line Contents\n",
       "==============================================================\n",
       "     1                                           def my_function_2(list, multiplier):\n",
       "     2         1         21.0     21.0     34.4      array = np.array(list)\n",
       "     3         1         40.0     40.0     65.6      new_list = array * multiplier\n",
       "     4         1          0.0      0.0      0.0      return(new_list)"
      ]
     },
     "metadata": {},
     "output_type": "display_data"
    }
   ],
   "source": [
    "%lprun -f my_function_2 my_function_2(np.random.rand(1000), 3)"
   ]
  },
  {
   "cell_type": "markdown",
   "metadata": {},
   "source": [
    "## Code profiling for memory\n",
    "We may also want to consider the memory footprint of a process that we are building. We can see the size of an object in bytes by using the inbuilt `sys` function `getsizeof`; this only works for a single object. "
   ]
  },
  {
   "cell_type": "code",
   "execution_count": 6,
   "metadata": {},
   "outputs": [],
   "source": [
    "import sys"
   ]
  },
  {
   "cell_type": "code",
   "execution_count": 7,
   "metadata": {},
   "outputs": [
    {
     "data": {
      "text/plain": [
       "8096"
      ]
     },
     "execution_count": 7,
     "metadata": {},
     "output_type": "execute_result"
    }
   ],
   "source": [
    "sys.getsizeof(np.random.rand(1000))"
   ]
  },
  {
   "cell_type": "markdown",
   "metadata": {},
   "source": [
    "If we want a more in-depth look at the memory allocation of our code, then we can use the [`memory_profiler`](https://pypi.org/project/memory-profiler/) package that is very similar in structure to the `line_profiler` package that we were using above. \n",
    "\n",
    "> `pip install memory_profiler`  \n",
    "> `conda install memory_profiler`"
   ]
  },
  {
   "cell_type": "code",
   "execution_count": 8,
   "metadata": {},
   "outputs": [],
   "source": [
    "%load_ext memory_profiler"
   ]
  },
  {
   "cell_type": "markdown",
   "metadata": {},
   "source": [
    "Once we have loaded `memory_profiler` into the session, then we can use it with `%mprun`. However, `%mprun` can only be used in functions that are stored in files, and cannot be used on functions that are merely defined in the session. "
   ]
  },
  {
   "cell_type": "code",
   "execution_count": 9,
   "metadata": {},
   "outputs": [],
   "source": [
    "import functions as fn"
   ]
  },
  {
   "cell_type": "code",
   "execution_count": 12,
   "metadata": {},
   "outputs": [
    {
     "name": "stdout",
     "output_type": "stream",
     "text": [
      "\n"
     ]
    },
    {
     "data": {
      "text/plain": [
       "Filename: /Users/willcanniford/github/python-notes/writing_efficient_code/functions.py\n",
       "\n",
       "Line #    Mem usage    Increment   Line Contents\n",
       "================================================\n",
       "     3     63.6 MiB     63.6 MiB   def my_file_function(list, multiplier):\n",
       "     4     63.7 MiB      0.0 MiB       new_list = [x * multiplier for x in list]\n",
       "     5     63.7 MiB      0.0 MiB       return(new_list)"
      ]
     },
     "metadata": {},
     "output_type": "display_data"
    }
   ],
   "source": [
    "%mprun -f fn.my_file_function fn.my_file_function(np.random.rand(1000), 5)"
   ]
  },
  {
   "cell_type": "code",
   "execution_count": 13,
   "metadata": {},
   "outputs": [
    {
     "name": "stdout",
     "output_type": "stream",
     "text": [
      "\n"
     ]
    },
    {
     "data": {
      "text/plain": [
       "Filename: /Users/willcanniford/github/python-notes/writing_efficient_code/functions.py\n",
       "\n",
       "Line #    Mem usage    Increment   Line Contents\n",
       "================================================\n",
       "     7     63.7 MiB     63.7 MiB   def my_file_function_2(list, multiplier):\n",
       "     8     63.7 MiB      0.0 MiB       array = np.array(list)\n",
       "     9     63.7 MiB      0.0 MiB       new_list = array * multiplier\n",
       "    10     63.7 MiB      0.0 MiB       return(new_list)"
      ]
     },
     "metadata": {},
     "output_type": "display_data"
    }
   ],
   "source": [
    "%mprun -f fn.my_file_function_2 fn.my_file_function_2(np.random.rand(1000), 5)"
   ]
  }
 ],
 "metadata": {
  "kernelspec": {
   "display_name": "Python 3",
   "language": "python",
   "name": "python3"
  },
  "language_info": {
   "codemirror_mode": {
    "name": "ipython",
    "version": 3
   },
   "file_extension": ".py",
   "mimetype": "text/x-python",
   "name": "python",
   "nbconvert_exporter": "python",
   "pygments_lexer": "ipython3",
   "version": "3.7.5"
  }
 },
 "nbformat": 4,
 "nbformat_minor": 4
}
