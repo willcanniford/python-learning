{
 "cells": [
  {
   "cell_type": "markdown",
   "metadata": {},
   "source": [
    "# Examining runtime and timing code\n",
    "If we are able to time our code, then we can pick the code that is the fastest, making our applications more efficient and quickly to compute values. To compare runtimes, we need to be able to time both a singular line of code, and a block of code. This is easily achieved in iPython, using some magic commands (these are additional things that have been added on top of the regular Python syntax). \n",
    "\n",
    "`%timeit`: add this before the line of code that you want to analyse, and it will do the rest.  \n",
    "\n",
    "One benefit here is that it provides an average of timings statistics, meaning that we aren't limited to the information that is usually defined with just a single run of some code. "
   ]
  },
  {
   "cell_type": "code",
   "execution_count": 1,
   "metadata": {},
   "outputs": [],
   "source": [
    "import numpy as np "
   ]
  },
  {
   "cell_type": "code",
   "execution_count": 2,
   "metadata": {},
   "outputs": [],
   "source": [
    "random_numbers = np.random.rand(1000)"
   ]
  },
  {
   "cell_type": "code",
   "execution_count": 3,
   "metadata": {},
   "outputs": [
    {
     "name": "stdout",
     "output_type": "stream",
     "text": [
      "10.8 µs ± 211 ns per loop (mean ± std. dev. of 7 runs, 100000 loops each)\n"
     ]
    }
   ],
   "source": [
    "%timeit random_numbers = np.random.rand(1000)"
   ]
  },
  {
   "cell_type": "markdown",
   "metadata": {},
   "source": [
    "We can see here that the latter block of code contains the magic command `%timeit` and thus provides some insight into the average time that that particular __line__ of code will take to run. \n",
    "\n",
    "We can define the number of runs that we would like the be done with the argument `-r` and the number of executions within each run with the argument `-n`. "
   ]
  },
  {
   "cell_type": "code",
   "execution_count": 7,
   "metadata": {},
   "outputs": [
    {
     "name": "stdout",
     "output_type": "stream",
     "text": [
      "10.7 µs ± 1.85 µs per loop (mean ± std. dev. of 100 runs, 1500 loops each)\n"
     ]
    }
   ],
   "source": [
    "%timeit -r100 -n1500 random_numbers = np.random.rand(1000)"
   ]
  },
  {
   "cell_type": "markdown",
   "metadata": {},
   "source": [
    "If we want `%timeit` to be counting across multiple lines of code, then we can use the `%%timeit` instead. "
   ]
  },
  {
   "cell_type": "code",
   "execution_count": 9,
   "metadata": {},
   "outputs": [
    {
     "name": "stdout",
     "output_type": "stream",
     "text": [
      "1.74 ms ± 37.6 µs per loop (mean ± std. dev. of 7 runs, 1000 loops each)\n"
     ]
    }
   ],
   "source": [
    "%%timeit \n",
    "\n",
    "random_numbers = []\n",
    "for i in range(1000):\n",
    "    random_numbers.append(np.random.rand(1))"
   ]
  },
  {
   "cell_type": "markdown",
   "metadata": {},
   "source": [
    "This way we can evaluate blocks as a whole, which is probably more useful. \n",
    "\n",
    "Using the `-o` flag allows us to assign the timings of the code and then we can look at the distributions ourself. "
   ]
  },
  {
   "cell_type": "code",
   "execution_count": 11,
   "metadata": {},
   "outputs": [
    {
     "name": "stdout",
     "output_type": "stream",
     "text": [
      "11.4 µs ± 2.86 µs per loop (mean ± std. dev. of 100 runs, 1500 loops each)\n"
     ]
    }
   ],
   "source": [
    "times = %timeit -r100 -n1500 -o random_numbers = np.random.rand(1000)"
   ]
  },
  {
   "cell_type": "code",
   "execution_count": 14,
   "metadata": {},
   "outputs": [
    {
     "data": {
      "text/plain": [
       "[1.5494522666661698e-05,\n",
       " 1.7494494000023527e-05,\n",
       " 3.369435933336717e-05,\n",
       " 1.2658548000066123e-05,\n",
       " 1.2696024666714341e-05,\n",
       " 1.7107248666661688e-05,\n",
       " 1.4589313333317477e-05,\n",
       " 2.0955520666651258e-05,\n",
       " 1.1732956666719474e-05,\n",
       " 1.8298387333364492e-05]"
      ]
     },
     "execution_count": 14,
     "metadata": {},
     "output_type": "execute_result"
    }
   ],
   "source": [
    "times.timings[:10]"
   ]
  },
  {
   "cell_type": "code",
   "execution_count": 15,
   "metadata": {},
   "outputs": [
    {
     "data": {
      "text/plain": [
       "1.023210133333426e-05"
      ]
     },
     "execution_count": 15,
     "metadata": {},
     "output_type": "execute_result"
    }
   ],
   "source": [
    "times.best"
   ]
  },
  {
   "cell_type": "code",
   "execution_count": 16,
   "metadata": {},
   "outputs": [
    {
     "data": {
      "text/plain": [
       "3.369435933336717e-05"
      ]
     },
     "execution_count": 16,
     "metadata": {},
     "output_type": "execute_result"
    }
   ],
   "source": [
    "times.worst"
   ]
  }
 ],
 "metadata": {
  "kernelspec": {
   "display_name": "Python 3",
   "language": "python",
   "name": "python3"
  },
  "language_info": {
   "codemirror_mode": {
    "name": "ipython",
    "version": 3
   },
   "file_extension": ".py",
   "mimetype": "text/x-python",
   "name": "python",
   "nbconvert_exporter": "python",
   "pygments_lexer": "ipython3",
   "version": "3.7.5"
  }
 },
 "nbformat": 4,
 "nbformat_minor": 4
}
