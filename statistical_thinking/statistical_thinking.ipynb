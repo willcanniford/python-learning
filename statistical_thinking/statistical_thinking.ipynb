{
 "cells": [
  {
   "cell_type": "markdown",
   "metadata": {},
   "source": [
    "# Statistical Thinking and Exploratory Anaylsis\n",
    "The importance of exploratory analysis of data cannot be underestimated in getting an understanding of what you are working with and what the best approach to take is going forward.  \n",
    "\n",
    "Cleaning data is important in this process as it allows for efficient summarising and easier plotting. "
   ]
  },
  {
   "cell_type": "markdown",
   "metadata": {},
   "source": [
    "# Empirical cumulative distribution function\n",
    "This particular plot shows the percentage of people that did something beneath a particular threshold. Think of a numeric variables that is true across a high level of categorical variables. We can see the distribution of the votes using a cumulative distribution line. "
   ]
  },
  {
   "cell_type": "markdown",
   "metadata": {},
   "source": [
    "``` python\n",
    "import numpy as np\n",
    "\n",
    "x = np.sort(numerical_variable) # the x axis has to be sorted \n",
    "y = np.arrange(1, len(x)+1) / len(x)\n",
    "\n",
    "_ = plt.plot(x, y, marker='.', linestyle='none')\n",
    "_ = plt.xlabel('perc of x')\n",
    "_ = plt.ylabel('ECDF')\n",
    "\n",
    "plt.margins(0.02) # keeps data off plot edges\n",
    "plt.show()\n",
    "\n",
    "def ecdf(data):\n",
    "    \"\"\"Compute ECDF for a one-dimensional array of measurements.\"\"\"\n",
    "    # Number of data points: n\n",
    "    n = len(data)\n",
    "\n",
    "    # x-data for the ECDF: x\n",
    "    x = np.sort(data)\n",
    "\n",
    "    # y-data for the ECDF: y\n",
    "    y = np.arange(1, n + 1) / n\n",
    "\n",
    "    return x, y\n",
    "```"
   ]
  },
  {
   "cell_type": "markdown",
   "metadata": {},
   "source": [
    "We can apply this to the iris data and compare how the 3 species of flower differ."
   ]
  },
  {
   "cell_type": "markdown",
   "metadata": {},
   "source": [
    "``` python\n",
    "# Compute ECDFs\n",
    "x_set, y_set = ecdf(setosa_petal_length)\n",
    "x_vers, y_vers = ecdf(versicolor_petal_length)\n",
    "x_virg, y_virg = ecdf(virginica_petal_length)\n",
    "\n",
    "# Plot all ECDFs on the same plot\n",
    "_ = plt.plot(x_set, y_set, marker='.', linestyle='none')\n",
    "_ = plt.plot(x_vers, y_vers, marker='.', linestyle='none')\n",
    "_ = plt.plot(x_virg, y_virg, marker='.', linestyle='none')\n",
    "\n",
    "# Annotate the plot\n",
    "plt.legend(('setosa', 'versicolor', 'virginica'), loc='lower right')\n",
    "_ = plt.xlabel('petal length (cm)')\n",
    "_ = plt.ylabel('ECDF')\n",
    "\n",
    "# Display the plot\n",
    "plt.show()\n",
    "```"
   ]
  },
  {
   "cell_type": "markdown",
   "metadata": {},
   "source": [
    "# Percentile statistics\n",
    "Box plots are designed to show the percentiles of a data set, this is a good place in which the graphical EDA meets the quantitative and can show the distribution of a population of numerical values easily. "
   ]
  },
  {
   "cell_type": "markdown",
   "metadata": {},
   "source": [
    "```python\n",
    "np.percentile(numeric, [10,25,50,75,90])\n",
    "```"
   ]
  },
  {
   "cell_type": "markdown",
   "metadata": {},
   "source": [
    "The code above would show you the percentiles at a given level for a numeric variable. This can be very useful if you're looking to show the distribution of values and the point at which outliers are truly seen.  \n",
    "\n",
    "While there is a debate about that constitutes an outlier, being more than 2 IQRs away from the median is accepted for most plots where the IQR is the middle 50% of the data; i.e. 75th percentile - 25th percentile. "
   ]
  }
 ],
 "metadata": {
  "kernelspec": {
   "display_name": "Python 3",
   "language": "python",
   "name": "python3"
  },
  "language_info": {
   "codemirror_mode": {
    "name": "ipython",
    "version": 3
   },
   "file_extension": ".py",
   "mimetype": "text/x-python",
   "name": "python",
   "nbconvert_exporter": "python",
   "pygments_lexer": "ipython3",
   "version": "3.7.6"
  }
 },
 "nbformat": 4,
 "nbformat_minor": 4
}
