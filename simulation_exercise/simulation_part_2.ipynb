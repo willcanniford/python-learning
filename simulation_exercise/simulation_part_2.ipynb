{
 "cells": [
  {
   "cell_type": "markdown",
   "metadata": {},
   "source": [
    "# Simulation exercise: part 2\n",
    "This is just some additional coding for the simulation exercise that I went through in [part 1](simulation_part_1.ipynb). I went through the steps in that part, and thought that it would be good to clean the code, and extract some of the functionality to functions so that the parameters of the game simluation could be easily altered. This should also make the code easier to follow and read."
   ]
  },
  {
   "cell_type": "markdown",
   "metadata": {},
   "source": [
    "### Rolling the die  \n",
    "I suppose the first thing that stands out is creating a function for the rolling of a standard 6-sided die. "
   ]
  },
  {
   "cell_type": "code",
   "execution_count": 1,
   "metadata": {},
   "outputs": [
    {
     "name": "stdout",
     "output_type": "stream",
     "text": [
      "[1, 1, 4, 1, 3, 5, 3, 6, 3, 3, 3, 2, 1, 1, 5, 4, 5, 3, 1, 4]\n"
     ]
    }
   ],
   "source": [
    "import numpy as np\n",
    "import matplotlib.pyplot as plt\n",
    "np.random.seed(100)\n",
    "\n",
    "def roll_die():\n",
    "    \"\"\" Simulate the rolling of a 6-sided die \"\"\"\n",
    "    return np.random.randint(1,7)\n",
    "\n",
    "# Quick check to make sure it is working \n",
    "rolls = []\n",
    "for i in range(20):\n",
    "    rolls.append(roll_die())\n",
    "    \n",
    "print(rolls)"
   ]
  },
  {
   "cell_type": "markdown",
   "metadata": {},
   "source": [
    "What else could be extracted to a function? What are the main features of the game?  \n",
    "- A player rolls a 6-sided die\n",
    "- A player updates their position\n",
    "- A player continues for **n** number of rolls \n",
    "<br>\n",
    "\n",
    "That seems likes a good starting point for now at least. \n",
    "\n",
    "### Updating the player's position"
   ]
  },
  {
   "cell_type": "code",
   "execution_count": 2,
   "metadata": {},
   "outputs": [
    {
     "name": "stdout",
     "output_type": "stream",
     "text": [
      "9\n",
      "11\n",
      "12\n"
     ]
    }
   ],
   "source": [
    "def update_position(start_position, roll):\n",
    "    \"\"\" Update the player's position based on current position and die roll \"\"\"\n",
    "    if roll < 3:\n",
    "        return max(0, start_position - 1)\n",
    "    elif roll < 6:\n",
    "        return start_position + 1\n",
    "    else:\n",
    "        return start_position + roll_die()\n",
    "    \n",
    "# Check some scenarios\n",
    "print(update_position(10, 1))\n",
    "print(update_position(10, 5))\n",
    "print(update_position(10, 6))"
   ]
  },
  {
   "cell_type": "markdown",
   "metadata": {},
   "source": [
    "We can see that the scenarios appear to be working as intended. We can assume that the second roll when the 6 was scored was a 2.  \n",
    "<br>\n",
    "We are starting to see the game come together, but we really need a function that simulates the game being played itself. "
   ]
  }
 ],
 "metadata": {
  "kernelspec": {
   "display_name": "Python 3",
   "language": "python",
   "name": "python3"
  },
  "language_info": {
   "codemirror_mode": {
    "name": "ipython",
    "version": 3
   },
   "file_extension": ".py",
   "mimetype": "text/x-python",
   "name": "python",
   "nbconvert_exporter": "python",
   "pygments_lexer": "ipython3",
   "version": "3.6.5"
  }
 },
 "nbformat": 4,
 "nbformat_minor": 2
}
