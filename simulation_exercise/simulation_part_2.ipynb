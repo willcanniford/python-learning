{
 "cells": [
  {
   "cell_type": "markdown",
   "metadata": {},
   "source": [
    "# Simulation exercise: part 2\n",
    "This is just some additional coding for the simulation exercise that I went through in [part 1](simulation_part_1.ipynb). I went through the steps in that part, and thought that it would be good to clean the code, and extract some of the functionality to functions so that the parameters of the game simluation could be easily altered. This should also make the code easier to follow and read."
   ]
  },
  {
   "cell_type": "markdown",
   "metadata": {},
   "source": [
    "### Rolling the die  \n",
    "I suppose the first thing that stands out is creating a function for the rolling of a standard 6-sided die. "
   ]
  },
  {
   "cell_type": "code",
   "execution_count": 1,
   "metadata": {},
   "outputs": [
    {
     "name": "stdout",
     "output_type": "stream",
     "text": [
      "[1, 1, 4, 1, 3, 5, 3, 6, 3, 3, 3, 2, 1, 1, 5, 4, 5, 3, 1, 4]\n"
     ]
    }
   ],
   "source": [
    "import numpy as np\n",
    "import matplotlib.pyplot as plt\n",
    "np.random.seed(100)\n",
    "\n",
    "def roll_die():\n",
    "    \"\"\" Simulate the rolling of a 6-sided die \"\"\"\n",
    "    return np.random.randint(1,7)\n",
    "\n",
    "# Quick check to make sure it is working \n",
    "rolls = []\n",
    "for i in range(20):\n",
    "    rolls.append(roll_die())\n",
    "    \n",
    "print(rolls)"
   ]
  },
  {
   "cell_type": "markdown",
   "metadata": {},
   "source": [
    "What else could be extracted to a function? What are the main features of the game?  \n",
    "- A player rolls a 6-sided die\n",
    "- A player updates their position\n",
    "- A player continues for **n** number of rolls \n",
    "<br>\n",
    "\n",
    "That seems likes a good starting point for now at least. \n",
    "\n",
    "### Updating the player's position"
   ]
  },
  {
   "cell_type": "code",
   "execution_count": 2,
   "metadata": {},
   "outputs": [
    {
     "name": "stdout",
     "output_type": "stream",
     "text": [
      "9\n",
      "11\n",
      "12\n"
     ]
    }
   ],
   "source": [
    "def update_position(start_position, roll):\n",
    "    \"\"\" Update the player's position based on current position and die roll \"\"\"\n",
    "    if roll < 3:\n",
    "        return max(0, start_position - 1)\n",
    "    elif roll < 6:\n",
    "        return start_position + 1\n",
    "    else:\n",
    "        return start_position + roll_die()\n",
    "    \n",
    "# Check some scenarios\n",
    "print(update_position(10, 1))\n",
    "print(update_position(10, 5))\n",
    "print(update_position(10, 6))"
   ]
  },
  {
   "cell_type": "markdown",
   "metadata": {},
   "source": [
    "We can see that the scenarios appear to be working as intended. We can assume that the second roll when the 6 was scored was a 2.  \n",
    "We are starting to see the game come together, but we really need a function that simulates the game being played itself. \n",
    "\n",
    "### Successive rolls"
   ]
  },
  {
   "cell_type": "code",
   "execution_count": 3,
   "metadata": {},
   "outputs": [
    {
     "name": "stdout",
     "output_type": "stream",
     "text": [
      "[0, 3, 4, 5, 6, 5, 11, 12, 13, 14, 15, 16, 17, 16, 15, 19, 18, 19, 18, 17, 18, 19, 23, 22, 21, 20]\n"
     ]
    }
   ],
   "source": [
    "def simulate_playthrough(n_rolls = 25):\n",
    "    \"\"\" Simulate the playing of a single game with n rolls \"\"\"\n",
    "    # Initiate a list with starting position of 0\n",
    "    steps = [0] \n",
    "    for go in range(n_rolls):\n",
    "        steps.append(update_position(steps[-1], roll_die()))\n",
    "    return steps\n",
    "\n",
    "# Let's try it out\n",
    "print(simulate_playthrough())"
   ]
  },
  {
   "cell_type": "markdown",
   "metadata": {},
   "source": [
    "We now have a way to play a game, track it and get a list of all the steps as the result. What about the multiple games, or the plotting?  \n",
    "### Simulating multiple games  \n",
    "It wouldn't be necessary to have a completely different function for simulating multiple games. I think that we can just alter the existing `simulate_playthrough` function to take an additional argument that could specify the number of games that you want to simulate. "
   ]
  },
  {
   "cell_type": "code",
   "execution_count": 4,
   "metadata": {},
   "outputs": [
    {
     "name": "stdout",
     "output_type": "stream",
     "text": [
      "[[0, 5, 6, 5, 4, 5, 8, 7, 6, 9, 8, 13, 14, 13, 14, 15, 16, 17, 19, 20, 21, 22, 23, 24, 25, 26], [0, 1, 0, 0, 1, 2, 3, 6, 7, 8, 9, 14, 13, 14, 15, 14, 15, 16, 17, 22, 23, 24, 25, 27, 26, 25], [0, 2, 5, 6, 7, 8, 9, 8, 9, 10, 9, 8, 14, 13, 17, 16, 17, 18, 23, 24, 25, 26, 27, 26, 25, 24], [0, 1, 4, 9, 10, 12, 11, 10, 9, 10, 11, 10, 14, 15, 16, 17, 22, 21, 22, 21, 22, 21, 20, 23, 24, 25], [0, 1, 2, 1, 2, 1, 4, 5, 6, 7, 11, 12, 15, 14, 15, 17, 19, 20, 21, 22, 23, 28, 29, 28, 29, 28], [0, 1, 4, 6, 5, 6, 11, 10, 11, 12, 13, 14, 15, 16, 15, 17, 18, 19, 20, 19, 18, 21, 20, 19, 18, 17], [0, 3, 4, 5, 4, 9, 13, 14, 13, 14, 15, 14, 19, 20, 21, 22, 28, 29, 30, 31, 32, 33, 34, 33, 32, 31], [0, 6, 7, 8, 7, 8, 7, 9, 10, 11, 12, 13, 14, 13, 14, 13, 14, 15, 14, 13, 14, 15, 16, 17, 18, 19], [0, 1, 2, 3, 4, 5, 6, 8, 7, 6, 7, 8, 7, 6, 5, 11, 10, 9, 10, 9, 10, 15, 14, 20, 21, 22], [0, 1, 4, 5, 6, 5, 4, 5, 4, 3, 4, 5, 4, 5, 4, 5, 4, 5, 6, 7, 8, 13, 17, 16, 17, 18]]\n"
     ]
    }
   ],
   "source": [
    "def simulate_playthrough(n_rolls = 25, n_games = 1):\n",
    "    \"\"\" Simulate the playing of a single game with n rolls \"\"\"\n",
    "    # Initiate a list with starting position of 0\n",
    "    games = [] \n",
    "    for game in range(n_games):\n",
    "        steps = [0]\n",
    "        for go in range(n_rolls):\n",
    "            steps.append(update_position(steps[-1], roll_die()))\n",
    "        games.append(steps)\n",
    "    return games\n",
    "\n",
    "print(simulate_playthrough(n_games = 10))"
   ]
  }
 ],
 "metadata": {
  "kernelspec": {
   "display_name": "Python 3",
   "language": "python",
   "name": "python3"
  },
  "language_info": {
   "codemirror_mode": {
    "name": "ipython",
    "version": 3
   },
   "file_extension": ".py",
   "mimetype": "text/x-python",
   "name": "python",
   "nbconvert_exporter": "python",
   "pygments_lexer": "ipython3",
   "version": "3.6.5"
  }
 },
 "nbformat": 4,
 "nbformat_minor": 2
}
