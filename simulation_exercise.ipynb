{
 "cells": [
  {
   "cell_type": "code",
   "execution_count": 1,
   "metadata": {},
   "outputs": [],
   "source": [
    "import numpy as np\n",
    "import matplotlib.pyplot as plt"
   ]
  },
  {
   "cell_type": "markdown",
   "metadata": {},
   "source": [
    "## Use loops and numpy to simulate a game of chance\n",
    "The game is to do with rolling a dice, and then progressing up an infinite set of stairs depending on your roll. We are trying to establish the chances of being above 60 given 100 rolls. One thing that we are definitely going to need is the ability to generate random numbers. We can do this using the `random` part of the `numpy` package. This is an exercise that was part of the __Intermediate Python for Data Science__ course on [DataCamp](www.datacamp.com).\n",
    "\n",
    "- - - -\n",
    "The game has the following rules:\n",
    "- If you roll a 1 or a 2 then you move back a step\n",
    "- If you roll 3, 4, 5 then you move up a single step\n",
    "- If you roll a 6 then you roll again and move that number of steps\n",
    "- You cannot go below step 0\n",
    "- Each roll there is a 0.1% chance that you will fall and set your steps to 0\n",
    "- - - -\n",
    "\n",
    "I'll go through these rules and add them sequentially to the code."
   ]
  },
  {
   "cell_type": "code",
   "execution_count": 2,
   "metadata": {},
   "outputs": [
    {
     "data": {
      "text/plain": [
       "0.8823493117539459"
      ]
     },
     "execution_count": 2,
     "metadata": {},
     "output_type": "execute_result"
    }
   ],
   "source": [
    "# Set seed for reproducability\n",
    "np.random.seed(2018)\n",
    "np.random.rand()"
   ]
  },
  {
   "cell_type": "markdown",
   "metadata": {},
   "source": [
    "You can, alternatively, use the function to generate an array of random numbers as shown below. "
   ]
  },
  {
   "cell_type": "code",
   "execution_count": 3,
   "metadata": {},
   "outputs": [
    {
     "data": {
      "image/png": "[encoded data removed]",
      "text/plain": [
       "<matplotlib.figure.Figure at 0x10c502668>"
      ]
     },
     "metadata": {},
     "output_type": "display_data"
    }
   ],
   "source": [
    "random_numbers = np.random.randint(1, 11, size = 100)\n",
    "plt.hist(random_numbers, bins = 10)\n",
    "plt.xticks(range(1,11))\n",
    "plt.xlabel('Numbers')\n",
    "plt.ylabel('Frequency')\n",
    "plt.title('Distribution of 100 random numbers between 1 and 10')\n",
    "plt.show()"
   ]
  }
 ],
 "metadata": {
  "kernelspec": {
   "display_name": "Python 3",
   "language": "python",
   "name": "python3"
  },
  "language_info": {
   "codemirror_mode": {
    "name": "ipython",
    "version": 3
   },
   "file_extension": ".py",
   "mimetype": "text/x-python",
   "name": "python",
   "nbconvert_exporter": "python",
   "pygments_lexer": "ipython3",
   "version": "3.6.5"
  }
 },
 "nbformat": 4,
 "nbformat_minor": 2
}
