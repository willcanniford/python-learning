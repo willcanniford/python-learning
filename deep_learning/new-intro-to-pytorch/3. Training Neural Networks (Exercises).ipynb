{
 "cells": [
  {
   "cell_type": "markdown",
   "metadata": {},
   "source": [
    "# Training Neural Networks\n",
    "\n",
    "The network we built in the previous part isn't so smart, it doesn't know anything about our handwritten digits. Neural networks with non-linear activations work like universal function approximators. There is some function that maps your input to the output. For example, images of handwritten digits to class probabilities. The power of neural networks is that we can train them to approximate this function, and basically any function given enough data and compute time.\n",
    "\n",
    "<img src=\"assets/function_approx.png\" width=500px>\n",
    "\n",
    "At first the network is naive, it doesn't know the function mapping the inputs to the outputs. We train the network by showing it examples of real data, then adjusting the network parameters such that it approximates this function.\n",
    "\n",
    "To find these parameters, we need to know how poorly the network is predicting the real outputs. For this we calculate a **loss function** (also called the cost), a measure of our prediction error. For example, the mean squared loss is often used in regression and binary classification problems\n",
    "\n",
    "$$\n",
    "\\large \\ell = \\frac{1}{2n}\\sum_i^n{\\left(y_i - \\hat{y}_i\\right)^2}\n",
    "$$\n",
    "\n",
    "where $n$ is the number of training examples, $y_i$ are the true labels, and $\\hat{y}_i$ are the predicted labels.\n",
    "\n",
    "By minimizing this loss with respect to the network parameters, we can find configurations where the loss is at a minimum and the network is able to predict the correct labels with high accuracy. We find this minimum using a process called **gradient descent**. The gradient is the slope of the loss function and points in the direction of fastest change. To get to the minimum in the least amount of time, we then want to follow the gradient (downwards). You can think of this like descending a mountain by following the steepest slope to the base.\n",
    "\n",
    "<img src='assets/gradient_descent.png' width=350px>"
   ]
  },
  {
   "cell_type": "markdown",
   "metadata": {},
   "source": [
    "## Backpropagation\n",
    "\n",
    "For single layer networks, gradient descent is straightforward to implement. However, it's more complicated for deeper, multilayer neural networks like the one we've built. Complicated enough that it took about 30 years before researchers figured out how to train multilayer networks.\n",
    "\n",
    "Training multilayer networks is done through **backpropagation** which is really just an application of the chain rule from calculus. It's easiest to understand if we convert a two layer network into a graph representation.\n",
    "\n",
    "<img src='assets/backprop_diagram.png' width=550px>\n",
    "\n",
    "In the forward pass through the network, our data and operations go from bottom to top here. We pass the input $x$ through a linear transformation $L_1$ with weights $W_1$ and biases $b_1$. The output then goes through the sigmoid operation $S$ and another linear transformation $L_2$. Finally we calculate the loss $\\ell$. We use the loss as a measure of how bad the network's predictions are. The goal then is to adjust the weights and biases to minimize the loss.\n",
    "\n",
    "To train the weights with gradient descent, we propagate the gradient of the loss backwards through the network. Each operation has some gradient between the inputs and outputs. As we send the gradients backwards, we multiply the incoming gradient with the gradient for the operation. Mathematically, this is really just calculating the gradient of the loss with respect to the weights using the chain rule.\n",
    "\n",
    "$$\n",
    "\\large \\frac{\\partial \\ell}{\\partial W_1} = \\frac{\\partial L_1}{\\partial W_1} \\frac{\\partial S}{\\partial L_1} \\frac{\\partial L_2}{\\partial S} \\frac{\\partial \\ell}{\\partial L_2}\n",
    "$$\n",
    "\n",
    "**Note:** I'm glossing over a few details here that require some knowledge of vector calculus, but they aren't necessary to understand what's going on.\n",
    "\n",
    "We update our weights using this gradient with some learning rate $\\alpha$. \n",
    "\n",
    "$$\n",
    "\\large W^\\prime_1 = W_1 - \\alpha \\frac{\\partial \\ell}{\\partial W_1}\n",
    "$$\n",
    "\n",
    "The learning rate $\\alpha$ is set such that the weight update steps are small enough that the iterative method settles in a minimum."
   ]
  },
  {
   "cell_type": "markdown",
   "metadata": {},
   "source": [
    "## Losses in PyTorch\n",
    "\n",
    "Let's start by seeing how we calculate the loss with PyTorch. Through the `nn` module, PyTorch provides losses such as the cross-entropy loss (`nn.CrossEntropyLoss`). You'll usually see the loss assigned to `criterion`. As noted in the last part, with a classification problem such as MNIST, we're using the softmax function to predict class probabilities. With a softmax output, you want to use cross-entropy as the loss. To actually calculate the loss, you first define the criterion then pass in the output of your network and the correct labels.\n",
    "\n",
    "Something really important to note here. Looking at [the documentation for `nn.CrossEntropyLoss`](https://pytorch.org/docs/stable/nn.html#torch.nn.CrossEntropyLoss),\n",
    "\n",
    "> This criterion combines `nn.LogSoftmax()` and `nn.NLLLoss()` in one single class.\n",
    ">\n",
    "> The input is expected to contain scores for each class.\n",
    "\n",
    "This means we need to pass in the raw output of our network into the loss, not the output of the softmax function. This raw output is usually called the *logits* or *scores*. We use the logits because softmax gives you probabilities which will often be very close to zero or one but floating-point numbers can't accurately represent values near zero or one ([read more here](https://docs.python.org/3/tutorial/floatingpoint.html)). It's usually best to avoid doing calculations with probabilities, typically we use log-probabilities."
   ]
  },
  {
   "cell_type": "code",
   "execution_count": 1,
   "metadata": {},
   "outputs": [],
   "source": [
    "# Imports \n",
    "import torch\n",
    "from torch import nn\n",
    "import torch.nn.functional as F\n",
    "from torchvision import datasets, transforms\n",
    "\n",
    "# Define a transform to normalize the data\n",
    "transform = transforms.Compose([transforms.ToTensor(),\n",
    "                                transforms.Normalize((0.5, 0.5, 0.5), (0.5, 0.5, 0.5)),\n",
    "                              ])\n",
    "\n",
    "# Download and load the training data\n",
    "trainset = datasets.MNIST('~/.pytorch/MNIST_data/', download=True, train=True, transform=transform)\n",
    "trainloader = torch.utils.data.DataLoader(trainset, batch_size=64, shuffle=True)"
   ]
  },
  {
   "cell_type": "code",
   "execution_count": 8,
   "metadata": {},
   "outputs": [
    {
     "name": "stdout",
     "output_type": "stream",
     "text": [
      "tensor([2, 6, 7, 5, 0])\n",
      "tensor([[-0.1695,  0.1903,  0.3655, -0.0721, -0.0474, -0.1759, -0.0391,  0.1074,\n",
      "         -0.0489, -0.1743],\n",
      "        [-0.2270,  0.2271,  0.3531, -0.0189, -0.0764, -0.2332,  0.0322,  0.0883,\n",
      "         -0.0279, -0.1029],\n",
      "        [-0.2223,  0.1797,  0.3436, -0.0369, -0.0722, -0.1727,  0.0497,  0.1352,\n",
      "         -0.0605, -0.1650],\n",
      "        [-0.1632,  0.1926,  0.3291, -0.0353, -0.1270, -0.1837,  0.0178,  0.0886,\n",
      "         -0.0897, -0.1660],\n",
      "        [-0.1390,  0.1779,  0.2619, -0.1117, -0.1168, -0.0680,  0.0088,  0.0163,\n",
      "         -0.1033, -0.1176]], grad_fn=<SliceBackward>)\n",
      "tensor(2.2739, grad_fn=<NllLossBackward>)\n"
     ]
    }
   ],
   "source": [
    "# Build a feed-forward network\n",
    "# Note the lack of softmax as the loss function requires non-probabilities \n",
    "model = nn.Sequential(nn.Linear(784, 128),\n",
    "                      nn.ReLU(),\n",
    "                      nn.Linear(128, 64),\n",
    "                      nn.ReLU(),\n",
    "                      nn.Linear(64, 10))\n",
    "\n",
    "# Define the loss\n",
    "criterion = nn.CrossEntropyLoss()\n",
    "\n",
    "# Get our data\n",
    "images, labels = next(iter(trainloader))\n",
    "print(labels[:5])\n",
    "\n",
    "# Flatten images so that we can pass the 1 dimensional array into the network \n",
    "images = images.view(images.shape[0], -1)\n",
    "\n",
    "# Forward pass, get our logits - not the probabilties as the loss function requires this \n",
    "logits = model(images)\n",
    "print(logits[:5])\n",
    "\n",
    "# Calculate the loss with the logits and the labels\n",
    "loss = criterion(logits, labels)\n",
    "\n",
    "print(loss)"
   ]
  },
  {
   "cell_type": "markdown",
   "metadata": {},
   "source": [
    "--- \n",
    "In my experience it's more convenient to build the model with a log-softmax output using `nn.LogSoftmax` or `F.log_softmax` ([documentation](https://pytorch.org/docs/stable/nn.html#torch.nn.LogSoftmax)). Then you can get the actual probabilities by taking the exponential `torch.exp(output)`. With a log-softmax output, you want to use the negative log likelihood loss, `nn.NLLLoss` ([documentation](https://pytorch.org/docs/stable/nn.html#torch.nn.NLLLoss)).\n",
    "\n",
    ">**Exercise:** Build a model that returns the log-softmax as the output and calculate the loss using the negative log likelihood loss. Note that for `nn.LogSoftmax` and `F.log_softmax` you'll need to set the `dim` keyword argument appropriately. `dim=0` calculates softmax across the rows, so each column sums to 1, while `dim=1` calculates across the columns so each row sums to 1. Think about what you want the output to be and choose `dim` appropriately."
   ]
  },
  {
   "cell_type": "code",
   "execution_count": 11,
   "metadata": {},
   "outputs": [
    {
     "name": "stdout",
     "output_type": "stream",
     "text": [
      "tensor([[0.1000, 0.1059, 0.0947, 0.1070, 0.0948, 0.0983, 0.0960, 0.1341, 0.0884,\n",
      "         0.0809],\n",
      "        [0.1007, 0.1045, 0.0910, 0.1133, 0.0896, 0.0986, 0.0958, 0.1331, 0.0863,\n",
      "         0.0872],\n",
      "        [0.1010, 0.1019, 0.0972, 0.1092, 0.0893, 0.1014, 0.0975, 0.1258, 0.0894,\n",
      "         0.0874],\n",
      "        [0.0984, 0.1049, 0.0920, 0.1119, 0.0939, 0.0996, 0.0949, 0.1275, 0.0890,\n",
      "         0.0877],\n",
      "        [0.1104, 0.1001, 0.0878, 0.1144, 0.0965, 0.0992, 0.0965, 0.1238, 0.0875,\n",
      "         0.0838],\n",
      "        [0.0971, 0.1018, 0.1012, 0.1027, 0.0945, 0.0998, 0.1047, 0.1300, 0.0851,\n",
      "         0.0831],\n",
      "        [0.0991, 0.1096, 0.0905, 0.1138, 0.0919, 0.0977, 0.0943, 0.1293, 0.0896,\n",
      "         0.0843],\n",
      "        [0.0984, 0.1091, 0.0913, 0.1130, 0.0915, 0.1006, 0.0908, 0.1301, 0.0881,\n",
      "         0.0869],\n",
      "        [0.1015, 0.1125, 0.0867, 0.1120, 0.0891, 0.1125, 0.0934, 0.1158, 0.0920,\n",
      "         0.0846],\n",
      "        [0.1012, 0.1052, 0.0927, 0.1100, 0.0916, 0.0996, 0.0925, 0.1276, 0.0908,\n",
      "         0.0888],\n",
      "        [0.1005, 0.1112, 0.0901, 0.1057, 0.0941, 0.1014, 0.0961, 0.1235, 0.0924,\n",
      "         0.0850],\n",
      "        [0.1019, 0.1026, 0.0891, 0.1152, 0.0931, 0.1002, 0.0962, 0.1306, 0.0854,\n",
      "         0.0858],\n",
      "        [0.1062, 0.0990, 0.0926, 0.1148, 0.0911, 0.1015, 0.0981, 0.1262, 0.0858,\n",
      "         0.0847],\n",
      "        [0.1039, 0.1046, 0.0943, 0.1080, 0.0902, 0.1005, 0.0959, 0.1248, 0.0891,\n",
      "         0.0888],\n",
      "        [0.0996, 0.1023, 0.0980, 0.1061, 0.0943, 0.1016, 0.1009, 0.1225, 0.0893,\n",
      "         0.0854],\n",
      "        [0.1030, 0.1039, 0.0876, 0.1088, 0.0954, 0.1029, 0.0972, 0.1200, 0.0942,\n",
      "         0.0870],\n",
      "        [0.1066, 0.1044, 0.0908, 0.1074, 0.0916, 0.0983, 0.1021, 0.1305, 0.0853,\n",
      "         0.0829],\n",
      "        [0.1029, 0.1045, 0.0948, 0.1082, 0.0940, 0.0995, 0.0956, 0.1262, 0.0892,\n",
      "         0.0853],\n",
      "        [0.0986, 0.1046, 0.1020, 0.1062, 0.0927, 0.0994, 0.0941, 0.1278, 0.0889,\n",
      "         0.0856],\n",
      "        [0.0995, 0.1044, 0.0931, 0.1097, 0.0945, 0.0994, 0.0972, 0.1293, 0.0890,\n",
      "         0.0840],\n",
      "        [0.1031, 0.1005, 0.0946, 0.1094, 0.0879, 0.1022, 0.0986, 0.1298, 0.0877,\n",
      "         0.0861],\n",
      "        [0.0993, 0.1021, 0.0927, 0.1133, 0.0927, 0.1013, 0.0951, 0.1322, 0.0859,\n",
      "         0.0855],\n",
      "        [0.1049, 0.1082, 0.0934, 0.1108, 0.0891, 0.0949, 0.0961, 0.1315, 0.0878,\n",
      "         0.0833],\n",
      "        [0.1012, 0.1082, 0.0906, 0.1134, 0.0902, 0.0932, 0.0972, 0.1350, 0.0848,\n",
      "         0.0862],\n",
      "        [0.1030, 0.1037, 0.0922, 0.1108, 0.0940, 0.0994, 0.0943, 0.1251, 0.0906,\n",
      "         0.0869],\n",
      "        [0.0973, 0.1147, 0.0913, 0.1082, 0.0908, 0.1035, 0.0941, 0.1213, 0.0934,\n",
      "         0.0853],\n",
      "        [0.1017, 0.1132, 0.0922, 0.1087, 0.0897, 0.1012, 0.0906, 0.1245, 0.0925,\n",
      "         0.0855],\n",
      "        [0.1089, 0.1095, 0.0863, 0.1111, 0.0879, 0.0976, 0.0942, 0.1251, 0.0918,\n",
      "         0.0877],\n",
      "        [0.0992, 0.1034, 0.0950, 0.1063, 0.0915, 0.1014, 0.1020, 0.1269, 0.0891,\n",
      "         0.0851],\n",
      "        [0.1022, 0.1020, 0.0892, 0.1072, 0.0948, 0.1122, 0.0919, 0.1205, 0.0914,\n",
      "         0.0886],\n",
      "        [0.0973, 0.1059, 0.0944, 0.1055, 0.0942, 0.1048, 0.0964, 0.1192, 0.0925,\n",
      "         0.0899],\n",
      "        [0.1083, 0.1024, 0.0936, 0.1080, 0.0885, 0.0998, 0.0970, 0.1357, 0.0831,\n",
      "         0.0836],\n",
      "        [0.0994, 0.1030, 0.0927, 0.1165, 0.0871, 0.0988, 0.0938, 0.1343, 0.0856,\n",
      "         0.0888],\n",
      "        [0.1079, 0.1003, 0.0894, 0.1149, 0.0871, 0.1004, 0.0991, 0.1336, 0.0819,\n",
      "         0.0855],\n",
      "        [0.0961, 0.1065, 0.0982, 0.1008, 0.0947, 0.1028, 0.0953, 0.1286, 0.0925,\n",
      "         0.0844],\n",
      "        [0.1029, 0.1165, 0.0888, 0.1042, 0.0913, 0.1021, 0.0946, 0.1217, 0.0950,\n",
      "         0.0830],\n",
      "        [0.1031, 0.1061, 0.0897, 0.1065, 0.0933, 0.1011, 0.0991, 0.1250, 0.0880,\n",
      "         0.0882],\n",
      "        [0.0997, 0.1089, 0.0923, 0.1100, 0.0908, 0.1002, 0.0950, 0.1252, 0.0921,\n",
      "         0.0859],\n",
      "        [0.1085, 0.0990, 0.0933, 0.1147, 0.0865, 0.1068, 0.0960, 0.1240, 0.0861,\n",
      "         0.0850],\n",
      "        [0.1022, 0.1056, 0.0922, 0.1085, 0.0911, 0.1032, 0.1006, 0.1209, 0.0912,\n",
      "         0.0844],\n",
      "        [0.1072, 0.1093, 0.0881, 0.1092, 0.0839, 0.1025, 0.0973, 0.1240, 0.0936,\n",
      "         0.0851],\n",
      "        [0.1077, 0.0965, 0.0904, 0.1154, 0.0884, 0.0988, 0.1028, 0.1321, 0.0862,\n",
      "         0.0817],\n",
      "        [0.1069, 0.1074, 0.0864, 0.1060, 0.0972, 0.1117, 0.0937, 0.1132, 0.0941,\n",
      "         0.0836],\n",
      "        [0.1057, 0.1055, 0.0932, 0.1099, 0.0884, 0.0976, 0.0933, 0.1289, 0.0900,\n",
      "         0.0876],\n",
      "        [0.1009, 0.1142, 0.0906, 0.1045, 0.0937, 0.1002, 0.0961, 0.1221, 0.0935,\n",
      "         0.0843],\n",
      "        [0.0955, 0.1107, 0.0922, 0.1116, 0.0908, 0.1014, 0.0947, 0.1304, 0.0887,\n",
      "         0.0840],\n",
      "        [0.0996, 0.1091, 0.0963, 0.1050, 0.0904, 0.1013, 0.0930, 0.1279, 0.0852,\n",
      "         0.0922],\n",
      "        [0.1030, 0.0952, 0.0996, 0.1056, 0.0980, 0.1004, 0.1010, 0.1243, 0.0882,\n",
      "         0.0846],\n",
      "        [0.1039, 0.1076, 0.0870, 0.1101, 0.0909, 0.1088, 0.0932, 0.1149, 0.0954,\n",
      "         0.0880],\n",
      "        [0.0972, 0.1085, 0.0915, 0.1097, 0.0898, 0.0986, 0.1012, 0.1242, 0.0907,\n",
      "         0.0885],\n",
      "        [0.1053, 0.0988, 0.0918, 0.1114, 0.0876, 0.0999, 0.1010, 0.1330, 0.0881,\n",
      "         0.0831],\n",
      "        [0.0978, 0.1064, 0.0956, 0.1140, 0.0938, 0.0973, 0.0957, 0.1264, 0.0890,\n",
      "         0.0839],\n",
      "        [0.1022, 0.1006, 0.0915, 0.1073, 0.0930, 0.1019, 0.1020, 0.1278, 0.0889,\n",
      "         0.0846],\n",
      "        [0.1004, 0.1062, 0.0958, 0.1055, 0.0901, 0.1034, 0.0994, 0.1242, 0.0906,\n",
      "         0.0844],\n",
      "        [0.1064, 0.1125, 0.0863, 0.1127, 0.0894, 0.0966, 0.0937, 0.1270, 0.0909,\n",
      "         0.0846],\n",
      "        [0.0993, 0.1032, 0.0951, 0.1098, 0.0919, 0.1002, 0.0950, 0.1282, 0.0907,\n",
      "         0.0865],\n",
      "        [0.1025, 0.1142, 0.0925, 0.1067, 0.0935, 0.0959, 0.0940, 0.1255, 0.0909,\n",
      "         0.0842],\n",
      "        [0.1098, 0.1019, 0.0917, 0.1076, 0.0905, 0.1025, 0.1018, 0.1244, 0.0857,\n",
      "         0.0842],\n",
      "        [0.0993, 0.1051, 0.0945, 0.1108, 0.0944, 0.0950, 0.0968, 0.1306, 0.0881,\n",
      "         0.0854],\n",
      "        [0.1017, 0.1036, 0.0897, 0.1145, 0.0919, 0.0975, 0.0962, 0.1321, 0.0864,\n",
      "         0.0864],\n",
      "        [0.0990, 0.1095, 0.0891, 0.1123, 0.0884, 0.1053, 0.0899, 0.1272, 0.0921,\n",
      "         0.0873],\n",
      "        [0.1029, 0.1013, 0.0947, 0.1083, 0.0870, 0.1047, 0.1028, 0.1277, 0.0860,\n",
      "         0.0846],\n",
      "        [0.1038, 0.1008, 0.0901, 0.1133, 0.0879, 0.1014, 0.0926, 0.1313, 0.0895,\n",
      "         0.0893],\n",
      "        [0.1114, 0.1057, 0.0878, 0.1080, 0.0949, 0.1005, 0.0957, 0.1223, 0.0902,\n",
      "         0.0835]], grad_fn=<ExpBackward>)\n",
      "tensor(2.2921, grad_fn=<NllLossBackward>)\n"
     ]
    }
   ],
   "source": [
    "# TODO: Build a feed-forward network\n",
    "model = nn.Sequential(nn.Linear(784, 128),\n",
    "                      nn.ReLU(),\n",
    "                      nn.Linear(128, 64),\n",
    "                      nn.ReLU(),\n",
    "                      nn.Linear(64, 10),\n",
    "                      nn.LogSoftmax(dim=1))\n",
    "\n",
    "# TODO: Define the loss\n",
    "criterion = nn.NLLLoss()\n",
    "\n",
    "# Get our data\n",
    "images, labels = next(iter(trainloader))\n",
    "# Flatten images\n",
    "images = images.view(images.shape[0], -1)\n",
    "\n",
    "# Forward pass, get our logits\n",
    "logits = model(images)\n",
    "\n",
    "# Calculate the probabilities of the classes\n",
    "probs = torch.exp(logits)\n",
    "# print(probs)\n",
    "\n",
    "# Calculate the loss with the logits and the labels\n",
    "loss = criterion(logits, labels)\n",
    "\n",
    "print(loss)"
   ]
  },
  {
   "cell_type": "markdown",
   "metadata": {},
   "source": [
    "## Autograd\n",
    "\n",
    "Now that we know how to calculate a loss, how do we use it to perform backpropagation? Torch provides a module, `autograd`, for automatically calculating the gradients of tensors. We can use it to calculate the gradients of all our parameters with respect to the loss. Autograd works by keeping track of operations performed on tensors, then going backwards through those operations, calculating gradients along the way. To make sure PyTorch keeps track of operations on a tensor and calculates the gradients, you need to set `requires_grad = True` on a tensor. You can do this at creation with the `requires_grad` keyword, or at any time with `x.requires_grad_(True)`.\n",
    "\n",
    "You can turn off gradients for a block of code with the `torch.no_grad()` content:\n",
    "```python\n",
    "x = torch.zeros(1, requires_grad=True)\n",
    ">>> with torch.no_grad():\n",
    "...     y = x * 2\n",
    ">>> y.requires_grad\n",
    "False\n",
    "```\n",
    "\n",
    "Also, you can turn on or off gradients altogether with `torch.set_grad_enabled(True|False)`.\n",
    "\n",
    "The gradients are computed with respect to some variable `z` with `z.backward()`. This does a backward pass through the operations that created `z`."
   ]
  },
  {
   "cell_type": "code",
   "execution_count": 12,
   "metadata": {},
   "outputs": [
    {
     "name": "stdout",
     "output_type": "stream",
     "text": [
      "tensor([[-1.2522, -0.1617],\n",
      "        [ 0.4094, -1.4293]], requires_grad=True)\n"
     ]
    }
   ],
   "source": [
    "x = torch.randn(2,2, requires_grad=True)\n",
    "print(x)"
   ]
  },
  {
   "cell_type": "code",
   "execution_count": 13,
   "metadata": {},
   "outputs": [
    {
     "name": "stdout",
     "output_type": "stream",
     "text": [
      "tensor([[1.5679, 0.0261],\n",
      "        [0.1676, 2.0430]], grad_fn=<PowBackward0>)\n"
     ]
    }
   ],
   "source": [
    "y = x**2\n",
    "print(y)"
   ]
  },
  {
   "cell_type": "markdown",
   "metadata": {},
   "source": [
    "Below we can see the operation that created `y`, a power operation `PowBackward0`."
   ]
  },
  {
   "cell_type": "code",
   "execution_count": 14,
   "metadata": {},
   "outputs": [
    {
     "name": "stdout",
     "output_type": "stream",
     "text": [
      "<PowBackward0 object at 0x112b8da20>\n"
     ]
    }
   ],
   "source": [
    "## grad_fn shows the function that generated this variable\n",
    "print(y.grad_fn)"
   ]
  },
  {
   "cell_type": "markdown",
   "metadata": {},
   "source": [
    "The autgrad module keeps track of these operations and knows how to calculate the gradient for each one. In this way, it's able to calculate the gradients for a chain of operations, with respect to any one tensor. Let's reduce the tensor `y` to a scalar value, the mean."
   ]
  },
  {
   "cell_type": "code",
   "execution_count": 15,
   "metadata": {},
   "outputs": [
    {
     "name": "stdout",
     "output_type": "stream",
     "text": [
      "tensor(0.9512, grad_fn=<MeanBackward1>)\n"
     ]
    }
   ],
   "source": [
    "z = y.mean()\n",
    "print(z)"
   ]
  },
  {
   "cell_type": "markdown",
   "metadata": {},
   "source": [
    "You can check the gradients for `x` and `y` but they are empty currently."
   ]
  },
  {
   "cell_type": "code",
   "execution_count": 16,
   "metadata": {},
   "outputs": [
    {
     "name": "stdout",
     "output_type": "stream",
     "text": [
      "None\n"
     ]
    }
   ],
   "source": [
    "print(x.grad)"
   ]
  },
  {
   "cell_type": "markdown",
   "metadata": {},
   "source": [
    "To calculate the gradients, you need to run the `.backward` method on a Variable, `z` for example. This will calculate the gradient for `z` with respect to `x`\n",
    "\n",
    "$$\n",
    "\\frac{\\partial z}{\\partial x} = \\frac{\\partial}{\\partial x}\\left[\\frac{1}{n}\\sum_i^n x_i^2\\right] = \\frac{x}{2}\n",
    "$$"
   ]
  },
  {
   "cell_type": "code",
   "execution_count": 17,
   "metadata": {},
   "outputs": [
    {
     "name": "stdout",
     "output_type": "stream",
     "text": [
      "tensor([[-0.6261, -0.0808],\n",
      "        [ 0.2047, -0.7147]])\n",
      "tensor([[-0.6261, -0.0808],\n",
      "        [ 0.2047, -0.7147]], grad_fn=<DivBackward0>)\n"
     ]
    }
   ],
   "source": [
    "z.backward()\n",
    "print(x.grad)\n",
    "print(x/2)"
   ]
  },
  {
   "cell_type": "markdown",
   "metadata": {},
   "source": [
    "These gradients calculations are particularly useful for neural networks. For training we need the gradients of the weights with respect to the cost. With PyTorch, we run data forward through the network to calculate the loss, then, go backwards to calculate the gradients with respect to the loss. Once we have the gradients we can make a gradient descent step. "
   ]
  },
  {
   "cell_type": "markdown",
   "metadata": {},
   "source": [
    "## Loss and Autograd together\n",
    "\n",
    "When we create a network with PyTorch, all of the parameters are initialized with `requires_grad = True`. This means that when we calculate the loss and call `loss.backward()`, the gradients for the parameters are calculated. These gradients are used to update the weights with gradient descent. Below you can see an example of calculating the gradients using a backwards pass."
   ]
  },
  {
   "cell_type": "code",
   "execution_count": 18,
   "metadata": {},
   "outputs": [],
   "source": [
    "# Build a feed-forward network\n",
    "model = nn.Sequential(nn.Linear(784, 128),\n",
    "                      nn.ReLU(),\n",
    "                      nn.Linear(128, 64),\n",
    "                      nn.ReLU(),\n",
    "                      nn.Linear(64, 10),\n",
    "                      nn.LogSoftmax(dim=1))\n",
    "\n",
    "criterion = nn.NLLLoss()\n",
    "images, labels = next(iter(trainloader))\n",
    "images = images.view(images.shape[0], -1)\n",
    "\n",
    "logits = model(images)\n",
    "loss = criterion(logits, labels)"
   ]
  },
  {
   "cell_type": "code",
   "execution_count": 19,
   "metadata": {},
   "outputs": [
    {
     "name": "stdout",
     "output_type": "stream",
     "text": [
      "Before backward pass: \n",
      " None\n",
      "After backward pass: \n",
      " tensor([[ 0.0007,  0.0007,  0.0007,  ...,  0.0007,  0.0007,  0.0007],\n",
      "        [-0.0014, -0.0014, -0.0014,  ..., -0.0014, -0.0014, -0.0014],\n",
      "        [ 0.0000,  0.0000,  0.0000,  ...,  0.0000,  0.0000,  0.0000],\n",
      "        ...,\n",
      "        [-0.0008, -0.0008, -0.0008,  ..., -0.0008, -0.0008, -0.0008],\n",
      "        [-0.0004, -0.0004, -0.0004,  ..., -0.0004, -0.0004, -0.0004],\n",
      "        [-0.0025, -0.0025, -0.0025,  ..., -0.0025, -0.0025, -0.0025]])\n"
     ]
    }
   ],
   "source": [
    "print('Before backward pass: \\n', model[0].weight.grad)\n",
    "\n",
    "loss.backward()\n",
    "\n",
    "print('After backward pass: \\n', model[0].weight.grad)"
   ]
  },
  {
   "cell_type": "markdown",
   "metadata": {},
   "source": [
    "## Training the network!\n",
    "\n",
    "There's one last piece we need to start training, an __optimizer__ that we'll use to update the weights with the gradients. We get these from PyTorch's [`optim` package](https://pytorch.org/docs/stable/optim.html). For example we can use stochastic gradient descent with `optim.SGD`. You can see how to define an optimizer below."
   ]
  },
  {
   "cell_type": "code",
   "execution_count": 22,
   "metadata": {},
   "outputs": [],
   "source": [
    "from torch import optim\n",
    "\n",
    "# Optimizers require the parameters to optimize and a learning rate\n",
    "optimizer = optim.SGD(model.parameters(), lr=0.01)"
   ]
  },
  {
   "cell_type": "markdown",
   "metadata": {},
   "source": [
    "Now we know how to use all the individual parts so it's time to see how they work together. Let's consider just one learning step before looping through all the data. The general process with PyTorch:\n",
    "\n",
    "* Make a forward pass through the network \n",
    "* Use the network output to calculate the loss\n",
    "* Perform a backward pass through the network with `loss.backward()` to calculate the gradients\n",
    "* Take a step with the optimizer to update the weights (this will then reduce the error of our network)\n",
    "\n",
    "Below I'll go through one training step and print out the weights and gradients so you can see how it changes. Note that I have a line of code `optimizer.zero_grad()`. When you do multiple backwards passes with the same parameters, the gradients are accumulated. This means that you need to zero the gradients on each training pass or you'll retain gradients from previous training batches and the changes won't be representative of just that singular run through."
   ]
  },
  {
   "cell_type": "code",
   "execution_count": 23,
   "metadata": {},
   "outputs": [
    {
     "name": "stdout",
     "output_type": "stream",
     "text": [
      "Initial weights -  Parameter containing:\n",
      "tensor([[ 0.0173, -0.0116, -0.0261,  ...,  0.0104, -0.0245,  0.0195],\n",
      "        [-0.0186,  0.0184,  0.0216,  ...,  0.0253, -0.0298, -0.0089],\n",
      "        [ 0.0351, -0.0066, -0.0068,  ...,  0.0214, -0.0031,  0.0089],\n",
      "        ...,\n",
      "        [ 0.0353, -0.0248,  0.0228,  ..., -0.0338, -0.0266, -0.0120],\n",
      "        [-0.0107, -0.0221, -0.0251,  ...,  0.0086,  0.0218,  0.0211],\n",
      "        [-0.0249,  0.0273, -0.0324,  ..., -0.0076, -0.0052,  0.0219]],\n",
      "       requires_grad=True)\n",
      "Gradient - tensor([[-0.0022, -0.0022, -0.0022,  ..., -0.0022, -0.0022, -0.0022],\n",
      "        [-0.0020, -0.0020, -0.0020,  ..., -0.0020, -0.0020, -0.0020],\n",
      "        [ 0.0000,  0.0000,  0.0000,  ...,  0.0000,  0.0000,  0.0000],\n",
      "        ...,\n",
      "        [-0.0044, -0.0044, -0.0044,  ..., -0.0044, -0.0044, -0.0044],\n",
      "        [ 0.0024,  0.0024,  0.0024,  ...,  0.0024,  0.0024,  0.0024],\n",
      "        [-0.0025, -0.0025, -0.0025,  ..., -0.0025, -0.0025, -0.0025]])\n"
     ]
    }
   ],
   "source": [
    "print('Initial weights - ', model[0].weight)\n",
    "\n",
    "images, labels = next(iter(trainloader))\n",
    "images.resize_(64, 784)\n",
    "\n",
    "# Clear the gradients, do this because gradients are accumulated\n",
    "optimizer.zero_grad()\n",
    "\n",
    "# Forward pass, then backward pass, then update weights\n",
    "output = model.forward(images)\n",
    "loss = criterion(output, labels)\n",
    "loss.backward()\n",
    "print('Gradient -', model[0].weight.grad)"
   ]
  },
  {
   "cell_type": "code",
   "execution_count": 24,
   "metadata": {},
   "outputs": [
    {
     "name": "stdout",
     "output_type": "stream",
     "text": [
      "Updated weights -  Parameter containing:\n",
      "tensor([[ 0.0173, -0.0115, -0.0261,  ...,  0.0105, -0.0245,  0.0196],\n",
      "        [-0.0186,  0.0184,  0.0216,  ...,  0.0254, -0.0298, -0.0088],\n",
      "        [ 0.0351, -0.0066, -0.0068,  ...,  0.0214, -0.0031,  0.0089],\n",
      "        ...,\n",
      "        [ 0.0353, -0.0248,  0.0229,  ..., -0.0337, -0.0266, -0.0119],\n",
      "        [-0.0107, -0.0221, -0.0251,  ...,  0.0086,  0.0218,  0.0210],\n",
      "        [-0.0249,  0.0274, -0.0324,  ..., -0.0076, -0.0052,  0.0219]],\n",
      "       requires_grad=True)\n"
     ]
    }
   ],
   "source": [
    "# Take an update step and few the new weights\n",
    "optimizer.step()\n",
    "print('Updated weights - ', model[0].weight)"
   ]
  },
  {
   "cell_type": "markdown",
   "metadata": {},
   "source": [
    "### Training for real\n",
    "\n",
    "Now we'll put this algorithm into a loop so we can go through all the images. Some nomenclature, one pass through the entire dataset is called an *epoch*. So here we're going to loop through `trainloader` to get our training batches. For each batch, we'll doing a training pass where we calculate the loss, do a backwards pass, and update the weights.\n",
    "\n",
    ">**Exercise:** Implement the training pass for our network. If you implemented it correctly, you should see the training loss drop with each epoch."
   ]
  },
  {
   "cell_type": "code",
   "execution_count": 30,
   "metadata": {},
   "outputs": [
    {
     "name": "stdout",
     "output_type": "stream",
     "text": [
      "Training loss: 1.8675739103034614\n",
      "Training loss: 0.84324597908871\n",
      "Training loss: 0.5232600781169019\n",
      "Training loss: 0.4277922757811892\n",
      "Training loss: 0.38269321444128623\n"
     ]
    }
   ],
   "source": [
    "## Your solution here\n",
    "\n",
    "model = nn.Sequential(nn.Linear(784, 128),\n",
    "                      nn.ReLU(),\n",
    "                      nn.Linear(128, 64),\n",
    "                      nn.ReLU(),\n",
    "                      nn.Linear(64, 10),\n",
    "                      nn.LogSoftmax(dim=1))\n",
    "\n",
    "# Use the criterion with the loss\n",
    "criterion = nn.NLLLoss()\n",
    "\n",
    "# Use the optimizer to take steps with the gradient \n",
    "optimizer = optim.SGD(model.parameters(), lr=0.003)\n",
    "\n",
    "# Define the number of iterations\n",
    "epochs = 5\n",
    "\n",
    "# Loop through the steps \n",
    "for e in range(epochs):\n",
    "    running_loss = 0\n",
    "    for images, labels in trainloader:\n",
    "        # Flatten MNIST images into a 784 long vector\n",
    "        images = images.view(images.shape[0], -1)\n",
    "    \n",
    "        # TODO: Training pass\n",
    "        # Clear the gradients, do this because gradients are accumulated\n",
    "        optimizer.zero_grad()\n",
    "        \n",
    "        # Generate the output from the model \n",
    "        output = model.forward(images)\n",
    "        \n",
    "        # Calculate the loss using the criterion defined above \n",
    "        loss = criterion(output, labels)\n",
    "        \n",
    "        # Make sure that we actually update the gradients \n",
    "        loss.backward()\n",
    "        optimizer.step()\n",
    "        \n",
    "        running_loss += loss.item()\n",
    "    else:\n",
    "        print(f\"Training loss: {running_loss/len(trainloader)}\")"
   ]
  },
  {
   "cell_type": "markdown",
   "metadata": {},
   "source": [
    "With the network trained, we can check out it's predictions."
   ]
  },
  {
   "cell_type": "code",
   "execution_count": 31,
   "metadata": {},
   "outputs": [
    {
     "data": {
      "image/png": "[encoded data removed]",
      "text/plain": [
       "<Figure size 432x648 with 2 Axes>"
      ]
     },
     "metadata": {
      "needs_background": "light"
     },
     "output_type": "display_data"
    }
   ],
   "source": [
    "%matplotlib inline\n",
    "import helper\n",
    "\n",
    "images, labels = next(iter(trainloader))\n",
    "\n",
    "img = images[0].view(1, 784)\n",
    "# Turn off gradients to speed up this part\n",
    "with torch.no_grad():\n",
    "    logits = model.forward(img)\n",
    "\n",
    "# Output of the network are logits, need to take softmax for probabilities\n",
    "ps = F.softmax(logits, dim=1)\n",
    "helper.view_classify(img.view(1, 28, 28), ps)"
   ]
  },
  {
   "cell_type": "markdown",
   "metadata": {},
   "source": [
    "Now our network is brilliant. It can accurately predict the digits in our images. Next up you'll write the code for training a neural network on a more complex dataset."
   ]
  }
 ],
 "metadata": {
  "kernelspec": {
   "display_name": "Python 3",
   "language": "python",
   "name": "python3"
  },
  "language_info": {
   "codemirror_mode": {
    "name": "ipython",
    "version": 3
   },
   "file_extension": ".py",
   "mimetype": "text/x-python",
   "name": "python",
   "nbconvert_exporter": "python",
   "pygments_lexer": "ipython3",
   "version": "3.6.8"
  }
 },
 "nbformat": 4,
 "nbformat_minor": 2
}
