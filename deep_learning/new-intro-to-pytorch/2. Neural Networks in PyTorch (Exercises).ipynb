{
 "cells": [
  {
   "cell_type": "markdown",
   "metadata": {},
   "source": [
    "# Neural networks with PyTorch\n",
    "\n",
    "Deep learning networks tend to be massive with dozens or hundreds of layers, that's where the term \"deep\" comes from. You can build one of these deep networks using only weight matrices as we did in the previous notebook, but in general it's very cumbersome and difficult to implement. PyTorch has a nice module `nn` that provides a nice way to efficiently build large neural networks."
   ]
  },
  {
   "cell_type": "code",
   "execution_count": 1,
   "metadata": {
    "collapsed": true
   },
   "outputs": [],
   "source": [
    "# Import necessary packages\n",
    "\n",
    "%matplotlib inline\n",
    "%config InlineBackend.figure_format = 'retina'\n",
    "\n",
    "import numpy as np\n",
    "import torch\n",
    "\n",
    "import helper\n",
    "\n",
    "import matplotlib.pyplot as plt"
   ]
  },
  {
   "cell_type": "markdown",
   "metadata": {},
   "source": [
    "\n",
    "Now we're going to build a larger network that can solve a (formerly) difficult problem, identifying text in an image. Here we'll use the MNIST dataset which consists of greyscale handwritten digits. Each image is 28x28 pixels, you can see a sample below\n",
    "\n",
    "<img src='assets/mnist.png'>\n",
    "\n",
    "Our goal is to build a neural network that can take one of these images and predict the digit in the image.\n",
    "\n",
    "First up, we need to get our dataset. This is provided through the `torchvision` package. The code below will download the MNIST dataset, then create training and test datasets for us. Don't worry too much about the details here, you'll learn more about this later."
   ]
  },
  {
   "cell_type": "code",
   "execution_count": 2,
   "metadata": {
    "collapsed": true
   },
   "outputs": [
    {
     "name": "stdout",
     "output_type": "stream",
     "text": [
      "Downloading http://yann.lecun.com/exdb/mnist/train-images-idx3-ubyte.gz\n",
      "Downloading http://yann.lecun.com/exdb/mnist/train-labels-idx1-ubyte.gz\n",
      "Downloading http://yann.lecun.com/exdb/mnist/t10k-images-idx3-ubyte.gz\n",
      "Downloading http://yann.lecun.com/exdb/mnist/t10k-labels-idx1-ubyte.gz\n",
      "Processing...\n",
      "Done!\n"
     ]
    }
   ],
   "source": [
    "from torchvision import datasets, transforms\n",
    "\n",
    "# Define a transform to normalize the data\n",
    "transform = transforms.Compose([transforms.ToTensor(),\n",
    "                              transforms.Normalize((0.5,), (0.5,)),\n",
    "                              ])\n",
    "\n",
    "# Download and load the training data\n",
    "trainset = datasets.MNIST('~/.pytorch/MNIST_data/', download=True, train=True, transform=transform)\n",
    "trainloader = torch.utils.data.DataLoader(trainset, batch_size=64, shuffle=True)"
   ]
  },
  {
   "cell_type": "markdown",
   "metadata": {},
   "source": [
    "--- \n",
    "\n",
    "We have the training data loaded into `trainloader` and we make that an iterator with `iter(trainloader)`. Later, we'll use this to loop through the dataset for training, like\n",
    "\n",
    "```python\n",
    "for image, label in trainloader:\n",
    "    ## do things with images and labels\n",
    "```\n",
    "\n",
    "You'll notice I created the `trainloader` with a batch size of 64, and `shuffle=True`. The batch size is the number of images we get in one iteration from the data loader and pass through our network, often called a *batch*. And `shuffle=True` tells it to shuffle the dataset every time we start going through the data loader again. But here I'm just grabbing the first batch so we can check out the data. We can see below that `images` is just a tensor with size `(64, 1, 28, 28)`. So, 64 images per batch, 1 color channel, and 28x28 images."
   ]
  },
  {
   "cell_type": "code",
   "execution_count": 3,
   "metadata": {
    "collapsed": true
   },
   "outputs": [
    {
     "name": "stdout",
     "output_type": "stream",
     "text": [
      "<class 'torch.Tensor'>\n",
      "torch.Size([64, 1, 28, 28])\n",
      "torch.Size([64])\n"
     ]
    }
   ],
   "source": [
    "dataiter = iter(trainloader)\n",
    "images, labels = dataiter.next()\n",
    "print(type(images))\n",
    "print(images.shape)\n",
    "print(labels.shape)"
   ]
  },
  {
   "cell_type": "markdown",
   "metadata": {},
   "source": [
    "This is what one of the images looks like. "
   ]
  },
  {
   "cell_type": "code",
   "execution_count": 4,
   "metadata": {
    "collapsed": true
   },
   "outputs": [
    {
     "data": {
      "image/png": "[encoded data removed]",
      "text/plain": [
       "<Figure size 432x288 with 1 Axes>"
      ]
     },
     "metadata": {
      "image/png": {
       "height": 250,
       "width": 253
      },
      "needs_background": "light"
     },
     "output_type": "display_data"
    }
   ],
   "source": [
    "plt.imshow(images[1].numpy().squeeze(), cmap='Greys_r');"
   ]
  },
  {
   "cell_type": "markdown",
   "metadata": {},
   "source": [
    "First, let's try to build a simple network for this dataset using weight matrices and matrix multiplications. Then, we'll see how to do it using PyTorch's `nn` module which provides a much more convenient and powerful method for defining network architectures.\n",
    "\n",
    "### Thinking about tensor shape \n",
    "\n",
    "The networks you've seen so far are called *fully-connected* or *dense* networks. Each unit in one layer is connected to each unit in the next layer. In fully-connected networks, the input to each layer must be a one-dimensional vector (which can be stacked into a 2D tensor as a batch of multiple examples). However, our images are 28x28 2D tensors, so we need to convert them into 1D vectors. Thinking about sizes, we need to convert the batch of images with shape `(64, 1, 28, 28)` to a have a shape of `(64, 784)`, 784 is 28 times 28. This is typically called *flattening*, we flattened the 2D images into 1D vectors.\n",
    "\n",
    "Previously you built a network with one output unit. Here we need 10 output units, one for each digit. We want our network to predict the digit shown in an image, so what we'll do is calculate probabilities that the image is of any one digit or class. This ends up being a discrete probability distribution over the classes (digits) that tells us the most likely class for the image. That means we need 10 output units for the 10 classes (digits). We'll see how to convert the network output into a probability distribution next.\n",
    "\n",
    "> **Exercise:** Flatten the batch of images `images`. Then build a multi-layer network with 784 input units, 256 hidden units, and 10 output units using random tensors for the weights and biases. For now, use a sigmoid activation for the hidden layer. Leave the output layer without an activation, we'll add one that gives us a probability distribution next."
   ]
  },
  {
   "cell_type": "code",
   "execution_count": 5,
   "metadata": {
    "collapsed": true
   },
   "outputs": [
    {
     "name": "stdout",
     "output_type": "stream",
     "text": [
      "tensor([[-7.1422e-01,  6.3739e+00, -6.1156e+00, -1.2708e+01, -8.1820e+00,\n",
      "          2.9543e+00, -2.2322e+01,  8.6069e+00,  2.3854e+00,  2.8498e-01],\n",
      "        [-4.3188e+00, -3.8692e+00, -5.1719e+00, -2.0594e+01, -6.1113e+00,\n",
      "         -3.2748e+00, -1.0309e+01,  1.8492e+00,  8.6801e+00, -9.9148e-01],\n",
      "        [ 3.4540e+00, -9.0440e+00, -2.5351e+01, -1.3176e+01, -3.6236e+00,\n",
      "         -8.5173e+00, -8.2764e+00,  3.5909e+00,  3.7827e+00,  2.4098e+00],\n",
      "        [ 1.5822e+00,  1.8179e+00, -1.6086e+01, -1.8449e+01, -7.7429e+00,\n",
      "         -4.7041e-01, -9.3021e+00, -1.6990e+00,  2.3125e+00,  3.3344e+00],\n",
      "        [-7.1055e+00, -2.7078e+00, -1.7697e+01, -1.1721e+01, -9.4640e+00,\n",
      "         -1.0468e+01,  2.4953e+00,  8.7566e+00,  9.9975e+00, -8.0835e+00],\n",
      "        [ 3.3787e+00, -9.1322e+00, -2.0028e+01, -1.1086e+01, -8.9856e+00,\n",
      "         -6.8509e+00, -3.5244e+00,  5.0313e+00,  1.1150e+01, -1.6749e+00],\n",
      "        [ 2.8150e-01,  2.0206e+00, -1.5300e+01, -1.5130e+01, -1.3393e+01,\n",
      "         -3.5168e+00, -1.1316e+01,  1.1641e+01,  4.8285e+00, -1.4094e+00],\n",
      "        [ 1.8234e+00, -5.1679e+00, -1.6809e+01, -1.6615e+01, -1.0364e+01,\n",
      "          3.0220e+00,  1.3723e+00,  4.4089e+00,  1.0675e-01,  1.7860e+00],\n",
      "        [-7.1432e+00,  2.2034e+00, -7.9876e+00, -1.1556e+01, -1.1437e+01,\n",
      "          2.4156e+00, -1.0971e+01,  8.7145e+00,  3.7618e+00, -1.6650e+00],\n",
      "        [-6.8893e+00,  7.1044e+00, -7.9356e+00, -1.0039e+01,  6.2156e-02,\n",
      "          2.0101e+00, -9.0308e-01,  1.3447e+01,  7.7622e+00, -8.9460e+00],\n",
      "        [ 9.6024e+00, -4.1385e+00, -1.6723e+01, -1.7897e+01, -9.7905e+00,\n",
      "         -3.5839e+00, -9.3074e+00,  7.1184e+00,  1.1991e+01, -9.2976e+00],\n",
      "        [ 6.2708e+00,  4.1246e+00, -1.1122e+01, -2.0923e+01, -9.6978e+00,\n",
      "         -7.9097e+00, -8.4168e+00, -4.8676e-01,  1.2110e+01, -5.6064e+00],\n",
      "        [ 9.5935e+00,  2.4092e+00, -2.3673e+01, -1.0045e+01, -6.3666e+00,\n",
      "         -6.4390e+00, -1.0053e+01,  4.4575e+00,  9.3039e+00,  3.7328e+00],\n",
      "        [-1.3838e+00,  2.3803e+00, -1.1022e+01, -2.0677e+01, -4.7153e+00,\n",
      "         -2.2331e+00, -1.2230e+01,  6.7470e+00,  9.0888e+00,  2.3629e+00],\n",
      "        [ 2.3698e+00, -8.2662e+00, -1.2779e+01, -1.4218e+01, -9.3372e+00,\n",
      "         -2.6294e+00, -1.1584e+01, -6.8354e+00,  1.0601e+01, -1.1703e+00],\n",
      "        [-5.2830e+00,  1.2655e-01, -8.5015e+00, -9.3057e+00, -1.6117e+01,\n",
      "         -1.9266e+00, -6.6477e-02,  1.2515e+01,  3.3878e+00, -2.0737e+00],\n",
      "        [ 1.1819e+01,  7.2740e-02, -1.1932e+01, -1.3484e+01, -1.1951e+01,\n",
      "         -9.8061e+00, -1.5547e+01,  5.2857e+00,  4.6248e+00, -1.0076e+01],\n",
      "        [-1.0513e+00, -9.4032e+00, -7.9819e-01, -1.5258e+01, -8.2627e+00,\n",
      "         -7.5742e-01, -1.5311e+01,  2.0127e+00,  1.0157e+01, -9.5165e+00],\n",
      "        [-5.8570e-01,  7.3545e-01, -2.6035e+01, -2.0796e+01, -1.1922e+01,\n",
      "         -6.9198e-01, -4.4048e+00,  5.8028e+00,  2.1908e+00, -1.7634e+00],\n",
      "        [-4.9636e+00,  4.6081e+00, -1.4426e+01, -1.3586e+01, -1.5824e+01,\n",
      "         -7.4443e+00,  6.8015e-01,  5.1497e+00,  2.6179e+00, -3.6484e+00],\n",
      "        [ 5.2011e+00, -1.0332e+01, -1.4925e+01, -1.3702e+01, -3.9583e+00,\n",
      "         -3.1567e+00, -1.6229e+01,  1.0523e+01,  1.2297e+01,  1.5999e+00],\n",
      "        [-1.2417e+01,  1.5982e+00, -1.7093e+01, -1.7982e+01, -5.9511e+00,\n",
      "          1.8143e-01,  4.8101e+00,  8.5218e+00,  2.8544e+00, -4.6272e+00],\n",
      "        [-5.2134e+00, -2.0086e+00, -1.6063e+01, -1.9273e+01, -8.4715e+00,\n",
      "         -3.3041e+00, -7.3598e+00,  5.0232e+00,  6.9609e+00, -4.4458e+00],\n",
      "        [-8.2196e+00, -8.1856e+00, -1.3449e+01, -1.7869e+01, -3.8421e+00,\n",
      "         -1.4164e+00, -1.1070e+01,  9.5787e+00,  9.0835e+00, -1.6840e+00],\n",
      "        [-2.4386e+00, -5.8376e+00,  5.5327e+00, -1.7161e+01, -5.9737e+00,\n",
      "         -1.2772e+00, -1.2275e+01,  5.9389e+00,  3.2720e+00, -5.9491e+00],\n",
      "        [-1.0814e+00,  1.9568e+00, -2.0941e+01, -1.4111e+01, -1.0078e+01,\n",
      "         -8.3974e+00,  1.0244e+01,  3.2320e+00,  2.6273e+00, -1.1859e+01],\n",
      "        [ 7.3890e-02, -4.2857e-01, -1.8551e+01, -1.6962e+01, -7.7128e+00,\n",
      "         -3.5467e+00, -6.1163e+00, -2.6219e-01,  3.5958e+00, -1.3457e+00],\n",
      "        [ 6.4988e+00, -4.4352e+00, -1.5864e+01, -1.0838e+01, -1.2699e+01,\n",
      "         -1.1311e+01, -1.4624e+01, -9.3441e-02,  1.1730e+01, -1.1506e+01],\n",
      "        [-3.8880e+00, -3.7452e+00, -1.3299e-01, -6.0634e+00, -1.7201e+00,\n",
      "         -1.0894e+01, -9.0688e+00,  3.4211e+00, -4.8345e+00,  5.8495e+00],\n",
      "        [-1.5638e+00, -5.3518e+00, -1.3187e+01, -1.5801e+01, -7.7725e+00,\n",
      "         -6.9316e+00, -7.8990e+00,  8.0829e+00,  1.2993e+01, -4.1926e+00],\n",
      "        [ 5.9010e+00, -5.3651e+00, -1.9080e+01, -7.1296e+00, -1.0573e+01,\n",
      "         -1.9237e+00, -1.1083e+01,  3.0440e-01,  8.9022e+00, -2.9445e+00],\n",
      "        [ 9.0182e+00, -4.0523e-01, -1.5481e+01, -9.6266e+00, -2.1952e+01,\n",
      "         -1.9802e+00, -5.4382e+00, -1.3523e+00,  1.3068e+00, -4.2310e+00],\n",
      "        [-1.7282e+00,  2.0219e+00, -2.8541e+00, -1.1277e+01, -1.3029e+01,\n",
      "          2.4454e+00, -1.0766e+01,  7.3314e+00,  6.4091e+00, -4.7742e+00],\n",
      "        [-7.6568e+00, -2.4269e+00, -2.6660e+01, -1.3265e+01, -7.9093e+00,\n",
      "         -1.0074e+00,  5.3907e+00,  6.3809e+00,  5.6053e+00,  5.2056e+00],\n",
      "        [-2.0831e+00,  4.6313e-01, -7.5670e+00, -2.5423e+00, -1.5675e+01,\n",
      "         -4.3672e+00, -7.4040e+00,  4.5498e-01,  2.5472e+00,  7.7113e+00],\n",
      "        [-4.9422e+00, -3.0967e+00, -1.2200e+01, -1.9168e+01, -1.1715e+01,\n",
      "         -2.9171e+00, -4.0436e+00,  3.9206e+00, -2.9790e-01, -5.5510e+00],\n",
      "        [ 7.9034e+00, -1.0674e+01, -6.1894e+00, -2.0803e+01, -1.2257e+01,\n",
      "         -1.7479e+00, -9.5134e+00,  4.2105e+00,  8.3230e+00, -9.6858e+00],\n",
      "        [-3.0635e+00, -3.8583e+00, -5.1762e+00, -1.3710e+01, -1.2750e+01,\n",
      "         -7.1763e+00, -6.2081e+00, -1.7507e+00,  1.0498e+01, -5.7781e+00],\n",
      "        [ 8.2938e+00, -3.8009e+00, -1.4256e+01, -1.1555e+01, -1.0299e+01,\n",
      "         -4.7042e-01, -7.8324e+00, -3.3503e-01,  5.3953e+00, -1.7900e+00],\n",
      "        [ 4.2308e+00, -8.7118e+00, -1.5250e+01, -1.3427e+01, -9.6571e+00,\n",
      "          6.7915e-01, -2.4014e+00,  7.2398e+00,  9.7697e+00, -2.2790e+00],\n",
      "        [ 3.5499e-01, -3.1983e+00, -7.5255e-01, -1.4905e+01, -3.6592e-01,\n",
      "         -7.6669e-01, -2.4378e+01,  5.0772e+00,  4.5348e+00, -5.6462e+00],\n",
      "        [-8.3022e-01,  3.8897e+00, -1.9332e+01, -1.1607e+01, -3.2392e+00,\n",
      "         -4.2603e+00, -4.1266e+00, -5.0844e+00, -7.6401e-01, -5.0135e+00],\n",
      "        [-3.5294e+00, -8.0090e+00, -1.8615e+01, -1.5713e+01, -4.9014e+00,\n",
      "         -3.9865e+00,  7.1357e+00,  2.5912e+00,  1.2263e+01, -1.0409e+01],\n",
      "        [ 8.7929e+00,  6.7076e-01, -1.0031e+01, -1.7981e+01, -9.6808e+00,\n",
      "         -1.6356e+00, -2.1602e+01,  2.8022e+00,  1.0705e+01, -9.2957e+00],\n",
      "        [-8.9176e+00, -7.7218e+00, -1.2108e+01, -1.3764e+01, -7.0700e+00,\n",
      "         -8.3553e+00,  3.4034e+00,  6.4231e+00,  7.6255e+00,  6.4001e+00],\n",
      "        [ 1.2546e+00, -7.9315e+00, -3.7012e+00, -8.9082e+00, -9.8381e+00,\n",
      "          7.9822e+00, -1.8814e+01, -6.4088e-01,  3.3676e+00, -5.6384e+00],\n",
      "        [-7.6690e+00,  5.2116e+00, -1.9257e+01, -1.3052e+01, -9.3095e+00,\n",
      "         -4.1758e+00, -5.0884e+00,  6.5959e+00,  5.8871e+00,  4.0992e+00],\n",
      "        [ 4.2614e+00, -3.6001e+00, -3.1080e+00, -1.6981e+01, -3.9554e+00,\n",
      "          2.2683e+00, -3.5056e+00,  6.5404e-01,  1.3922e+01, -1.5119e+01],\n",
      "        [ 8.2201e+00,  1.0960e+01, -1.5056e+01, -8.0576e+00, -1.8933e+01,\n",
      "         -1.0657e+00, -1.9451e+01,  1.9674e-01, -9.6044e-01, -7.7043e+00],\n",
      "        [ 2.9462e+00, -1.1834e+00, -1.0815e+01, -1.7221e+01, -1.2488e+01,\n",
      "         -8.7853e+00, -7.5825e+00,  9.3638e-01,  5.2837e+00,  4.3088e-01],\n",
      "        [ 1.3672e-02, -6.1679e+00, -9.9672e+00, -1.6404e+01, -9.1407e+00,\n",
      "          1.7220e+00, -4.0218e-01,  4.7286e+00,  1.1363e+01,  8.9653e-01],\n",
      "        [-2.2903e+00, -5.7562e+00, -7.0145e+00, -5.6224e+00, -1.4474e+01,\n",
      "         -1.0858e+01, -1.3055e+01, -1.6287e+00,  1.0446e+01, -7.1645e+00],\n",
      "        [ 1.5374e+00, -2.7619e+00, -2.8666e+01, -9.8132e+00, -6.0731e+00,\n",
      "         -9.2439e-01, -9.8657e+00, -1.8347e+00,  9.0000e+00, -7.2652e+00],\n",
      "        [ 1.1835e+01,  4.6807e+00, -8.3066e+00, -9.0219e+00, -1.2856e+01,\n",
      "         -7.1548e+00, -1.2319e+01, -1.1762e+00, -1.5697e+00, -4.2799e+00],\n",
      "        [-3.3259e+00, -2.9577e+00, -1.4052e+01, -1.6755e+01, -2.2385e+00,\n",
      "         -1.2810e+00, -1.0632e+01,  4.0805e+00,  5.8824e+00, -6.7250e+00],\n",
      "        [-4.3365e+00,  3.4671e-01, -2.4533e+01, -1.5897e+01, -2.4730e+00,\n",
      "         -3.0860e-01, -3.2454e+00,  9.6666e+00,  1.1460e+01,  5.1240e+00],\n",
      "        [ 9.5438e+00, -5.9501e+00, -2.3410e+01, -1.2938e+01, -2.9889e+00,\n",
      "          5.3777e+00, -1.2722e+01, -4.0140e+00, -3.2458e+00,  2.3691e+00],\n",
      "        [-1.1396e+00, -1.4034e+01, -1.2064e+01, -1.5814e+01, -6.0792e+00,\n",
      "         -4.2564e+00, -8.0077e+00,  5.5021e-01,  9.1968e+00, -2.3550e+00],\n",
      "        [ 4.2888e+00, -9.6364e+00, -5.6952e+00, -1.2033e+01,  1.9925e+00,\n",
      "         -7.0466e+00, -1.1149e+00, -4.9900e-01,  1.0402e+01, -6.1994e+00],\n",
      "        [-1.7837e+00, -6.8234e+00, -8.3504e-01, -1.3638e+01, -1.1689e+01,\n",
      "         -4.4588e+00, -1.3684e+01,  1.2929e+00,  1.3754e+01, -5.4070e+00],\n",
      "        [ 3.0107e+00, -1.1066e+00, -6.4616e+00, -1.1975e+01, -1.1684e+01,\n",
      "         -5.2323e+00, -4.6716e+00,  7.3853e+00,  1.3673e+00, -7.1042e+00],\n",
      "        [-3.0343e+00, -8.1422e+00, -2.0609e+01, -1.8475e+01, -1.0790e+01,\n",
      "         -6.1930e+00, -8.7003e+00,  3.0456e+00,  7.2788e+00, -5.1201e+00],\n",
      "        [ 2.7225e+00, -3.4832e+00, -1.6990e+01, -1.9349e+01, -3.7778e+00,\n",
      "          2.5599e-01, -1.0961e+01,  8.2715e-01,  1.3796e+01, -6.0670e+00],\n",
      "        [ 1.5255e+00, -6.0772e+00, -1.2559e+01, -9.7909e+00, -9.0645e+00,\n",
      "         -5.0063e+00, -1.1813e+01,  4.8058e+00,  1.1219e+01, -7.8729e+00]])\n"
     ]
    }
   ],
   "source": [
    "## Your solution\n",
    "## Define the sigmoid activation function that we are going to use \n",
    "def activation(x):\n",
    "    return 1/(1 + torch.exp(-x))\n",
    "\n",
    "# We can reshape the images to flatten them here using the .view()\n",
    "inputs = images.view(images.shape[0], -1)\n",
    "# This leaves us with 64 examples of 784-long vectors (this 28 pixels x 28 pixels)\n",
    "\n",
    "\n",
    "w1 = torch.randn(784, 256)\n",
    "# We have a hidden layer of 256 elements, so we should create that number of biases \n",
    "b1 = torch.randn(256)\n",
    "\n",
    "\n",
    "w2  = torch.randn(256, 10)\n",
    "b2 = torch.randn(10)\n",
    "\n",
    "\n",
    "hidden = activation(torch.mm(inputs, w1) + b1)\n",
    "\n",
    "out = torch.mm(hidden, w2) + b2\n",
    "print(out)\n",
    "# Output of the network, should have shape (64,10) - one per image, and a representation of the digit the image could be of"
   ]
  },
  {
   "cell_type": "markdown",
   "metadata": {},
   "source": [
    "Now we have 10 outputs for our network. We want to pass in an image to our network and get out a probability distribution over the classes that tells us the likely class(es) the image belongs to. Something that looks like this:\n",
    "<img src='assets/image_distribution.png' width=500px>\n",
    "\n",
    "Here we see that the probability for each class is roughly the same. This is representing an untrained network, it hasn't seen any data yet so it just returns a uniform distribution with equal probabilities for each class.\n",
    "\n",
    "To calculate this probability distribution, we often use the [**softmax** function](https://en.wikipedia.org/wiki/Softmax_function). Mathematically this looks like\n",
    "\n",
    "$$\n",
    "\\Large \\sigma(x_i) = \\cfrac{e^{x_i}}{\\sum_k^K{e^{x_k}}}\n",
    "$$\n",
    "\n",
    "What this does is squish each input $x_i$ between 0 and 1 and normalizes the values to give you a proper probability distribution where the probabilites sum up to one.\n",
    "\n",
    "> **Exercise:** Implement a function `softmax` that performs the softmax calculation and returns probability distributions for each example in the batch. Note that you'll need to pay attention to the shapes when doing this. If you have a tensor `a` with shape `(64, 10)` and a tensor `b` with shape `(64,)`, doing `a/b` will give you an error because PyTorch will try to do the division across the columns (called broadcasting) but you'll get a size mismatch. The way to think about this is for each of the 64 examples, you only want to divide by one value, the sum in the denominator. So you need `b` to have a shape of `(64, 1)`. This way PyTorch will divide the 10 values in each row of `a` by the one value in each row of `b`. Pay attention to how you take the sum as well. You'll need to define the `dim` keyword in `torch.sum`. Setting `dim=0` takes the sum across the rows while `dim=1` takes the sum across the columns."
   ]
  },
  {
   "cell_type": "code",
   "execution_count": 7,
   "metadata": {
    "collapsed": true
   },
   "outputs": [
    {
     "name": "stdout",
     "output_type": "stream",
     "text": [
      "torch.Size([64, 10])\n",
      "tensor([1.0000, 1.0000, 1.0000, 1.0000, 1.0000, 1.0000, 1.0000, 1.0000, 1.0000,\n",
      "        1.0000, 1.0000, 1.0000, 1.0000, 1.0000, 1.0000, 1.0000, 1.0000, 1.0000,\n",
      "        1.0000, 1.0000, 1.0000, 1.0000, 1.0000, 1.0000, 1.0000, 1.0000, 1.0000,\n",
      "        1.0000, 1.0000, 1.0000, 1.0000, 1.0000, 1.0000, 1.0000, 1.0000, 1.0000,\n",
      "        1.0000, 1.0000, 1.0000, 1.0000, 1.0000, 1.0000, 1.0000, 1.0000, 1.0000,\n",
      "        1.0000, 1.0000, 1.0000, 1.0000, 1.0000, 1.0000, 1.0000, 1.0000, 1.0000,\n",
      "        1.0000, 1.0000, 1.0000, 1.0000, 1.0000, 1.0000, 1.0000, 1.0000, 1.0000,\n",
      "        1.0000])\n"
     ]
    }
   ],
   "source": [
    "def softmax(x):\n",
    "    return torch.exp(x)/torch.sum(torch.exp(x), dim=1).view(-1, 1)\n",
    "\n",
    "# We can use the output of the network from the previous exercise with shape (64,10)\n",
    "probabilities = softmax(out)\n",
    "\n",
    "# Does it have the right shape? Should be (64, 10)\n",
    "print(probabilities.shape)\n",
    "\n",
    "# Do the probabilities all sum to 1?\n",
    "print(probabilities.sum(dim=1))"
   ]
  },
  {
   "cell_type": "markdown",
   "metadata": {},
   "source": [
    "## Building networks with PyTorch\n",
    "\n",
    "PyTorch provides a module `nn` that makes building networks much simpler. Here I'll show you how to build the same one as above with 784 inputs, 256 hidden units, 10 output units and a softmax output."
   ]
  },
  {
   "cell_type": "code",
   "execution_count": 8,
   "metadata": {
    "collapsed": true
   },
   "outputs": [],
   "source": [
    "from torch import nn"
   ]
  },
  {
   "cell_type": "code",
   "execution_count": 9,
   "metadata": {
    "collapsed": true
   },
   "outputs": [],
   "source": [
    "class Network(nn.Module):\n",
    "    def __init__(self):\n",
    "        super().__init__()\n",
    "        \n",
    "        # Inputs to hidden layer linear transformation\n",
    "        self.hidden = nn.Linear(784, 256)\n",
    "        # Output layer, 10 units - one for each digit\n",
    "        self.output = nn.Linear(256, 10)\n",
    "        \n",
    "        # Define sigmoid activation and softmax output \n",
    "        self.sigmoid = nn.Sigmoid()\n",
    "        self.softmax = nn.Softmax(dim=1)\n",
    "        \n",
    "    def forward(self, x):\n",
    "        # Pass the input tensor through each of our operations\n",
    "        x = self.hidden(x)\n",
    "        x = self.sigmoid(x)\n",
    "        x = self.output(x)\n",
    "        x = self.softmax(x)\n",
    "        \n",
    "        return x"
   ]
  },
  {
   "cell_type": "markdown",
   "metadata": {},
   "source": [
    "Let's go through this bit by bit.\n",
    "\n",
    "```python\n",
    "class Network(nn.Module):\n",
    "```\n",
    "\n",
    "Here we're inheriting from `nn.Module`. Combined with `super().__init__()` this creates a class that tracks the architecture and provides a lot of useful methods and attributes. It is mandatory to inherit from `nn.Module` when you're creating a class for your network. The name of the class itself can be anything.\n",
    "\n",
    "```python\n",
    "self.hidden = nn.Linear(784, 256)\n",
    "```\n",
    "\n",
    "This line creates a module for a linear transformation, $x\\mathbf{W} + b$, with 784 inputs and 256 outputs and assigns it to `self.hidden`. The module automatically creates the weight and bias tensors which we'll use in the `forward` method. You can access the weight and bias tensors once the network (`net`) is created with `net.hidden.weight` and `net.hidden.bias`.\n",
    "\n",
    "```python\n",
    "self.output = nn.Linear(256, 10)\n",
    "```\n",
    "\n",
    "Similarly, this creates another linear transformation with 256 inputs and 10 outputs.\n",
    "\n",
    "```python\n",
    "self.sigmoid = nn.Sigmoid()\n",
    "self.softmax = nn.Softmax(dim=1)\n",
    "```\n",
    "\n",
    "Here I defined operations for the sigmoid activation and softmax output. Setting `dim=1` in `nn.Softmax(dim=1)` calculates softmax across the columns.\n",
    "\n",
    "```python\n",
    "def forward(self, x):\n",
    "```\n",
    "\n",
    "PyTorch networks created with `nn.Module` must have a `forward` method defined. It takes in a tensor `x` and passes it through the operations you defined in the `__init__` method.\n",
    "\n",
    "```python\n",
    "x = self.hidden(x)\n",
    "x = self.sigmoid(x)\n",
    "x = self.output(x)\n",
    "x = self.softmax(x)\n",
    "```\n",
    "\n",
    "Here the input tensor `x` is passed through each operation a reassigned to `x`. We can see that the input tensor goes through the hidden layer, then a sigmoid function, then the output layer, and finally the softmax function. It doesn't matter what you name the variables here, as long as the inputs and outputs of the operations match the network architecture you want to build. The order in which you define things in the `__init__` method doesn't matter, but you'll need to sequence the operations correctly in the `forward` method.\n",
    "\n",
    "Now we can create a `Network` object."
   ]
  },
  {
   "cell_type": "code",
   "execution_count": 10,
   "metadata": {
    "collapsed": true
   },
   "outputs": [
    {
     "data": {
      "text/plain": [
       "Network(\n",
       "  (hidden): Linear(in_features=784, out_features=256, bias=True)\n",
       "  (output): Linear(in_features=256, out_features=10, bias=True)\n",
       "  (sigmoid): Sigmoid()\n",
       "  (softmax): Softmax()\n",
       ")"
      ]
     },
     "execution_count": 10,
     "metadata": {},
     "output_type": "execute_result"
    }
   ],
   "source": [
    "# Create the network and look at it's text representation\n",
    "model = Network()\n",
    "model"
   ]
  },
  {
   "cell_type": "markdown",
   "metadata": {},
   "source": [
    "You can define the network somewhat more concisely and clearly using the `torch.nn.functional` module. This is the most common way you'll see networks defined as many operations are simple element-wise functions. We normally import this module as `F`, `import torch.nn.functional as F`."
   ]
  },
  {
   "cell_type": "code",
   "execution_count": null,
   "metadata": {
    "collapsed": true
   },
   "outputs": [],
   "source": [
    "import torch.nn.functional as F\n",
    "\n",
    "class Network(nn.Module):\n",
    "    def __init__(self):\n",
    "        super().__init__()\n",
    "        # Inputs to hidden layer linear transformation\n",
    "        self.hidden = nn.Linear(784, 256)\n",
    "        # Output layer, 10 units - one for each digit\n",
    "        self.output = nn.Linear(256, 10)\n",
    "        \n",
    "    def forward(self, x):\n",
    "        # Hidden layer with sigmoid activation\n",
    "        x = F.sigmoid(self.hidden(x))\n",
    "        # Output layer with softmax activation\n",
    "        x = F.softmax(self.output(x), dim=1)\n",
    "        \n",
    "        return x"
   ]
  },
  {
   "cell_type": "markdown",
   "metadata": {},
   "source": [
    "### Activation functions\n",
    "\n",
    "So far we've only been looking at the softmax activation, but in general any function can be used as an activation function. The only requirement is that for a network to approximate a non-linear function, the activation functions must be non-linear. Here are a few more examples of common activation functions: Tanh (hyperbolic tangent), and ReLU (rectified linear unit).\n",
    "\n",
    "<img src=\"assets/activation.png\" width=700px>\n",
    "\n",
    "In practice, the ReLU function is used almost exclusively as the activation function for hidden layers."
   ]
  },
  {
   "cell_type": "markdown",
   "metadata": {},
   "source": [
    "### Your Turn to Build a Network\n",
    "\n",
    "<img src=\"assets/mlp_mnist.png\" width=600px>\n",
    "\n",
    "> **Exercise:** Create a network with 784 input units, a hidden layer with 128 units and a ReLU activation, then a hidden layer with 64 units and a ReLU activation, and finally an output layer with a softmax activation as shown above. You can use a ReLU activation with the `nn.ReLU` module or `F.relu` function."
   ]
  },
  {
   "cell_type": "code",
   "execution_count": 19,
   "metadata": {
    "collapsed": true,
    "scrolled": true
   },
   "outputs": [],
   "source": [
    "# Using the previous example as a template \n",
    "import torch.nn.functional as F\n",
    "\n",
    "class Network(nn.Module):\n",
    "    \n",
    "    def __init__(self):\n",
    "        super().__init__()\n",
    "        \n",
    "        # Inputs to hidden layer linear transformation\n",
    "        self.hidden1 = nn.Linear(784, 128)\n",
    "        self.hidden2 = nn.Linear(128, 64)\n",
    "        \n",
    "        # Output layer, 10 units - one for each digit\n",
    "        self.output = nn.Linear(64, 10)\n",
    "        \n",
    "    def forward(self, x):\n",
    "        # First layer with relu activation\n",
    "        x = F.relu(self.hidden1(x))\n",
    "        x = F.relu(self.hidden2(x))\n",
    "        \n",
    "        # Output layer with softmax activation\n",
    "        x = F.softmax(self.output(x), dim=1)\n",
    "        \n",
    "        return x\n"
   ]
  },
  {
   "cell_type": "markdown",
   "metadata": {},
   "source": [
    "### Initializing weights and biases\n",
    "\n",
    "The weights and such are automatically initialized for you, but it's possible to customize how they are initialized. The weights and biases are tensors attached to the layer you defined, you can get them with `model.fc1.weight` for instance."
   ]
  },
  {
   "cell_type": "code",
   "execution_count": 20,
   "metadata": {
    "collapsed": true
   },
   "outputs": [
    {
     "name": "stdout",
     "output_type": "stream",
     "text": [
      "Parameter containing:\n",
      "tensor([[-0.0002, -0.0023,  0.0246,  ..., -0.0338,  0.0350,  0.0161],\n",
      "        [-0.0168, -0.0022,  0.0067,  ...,  0.0023, -0.0012,  0.0146],\n",
      "        [ 0.0308,  0.0050, -0.0289,  ..., -0.0283,  0.0088,  0.0124],\n",
      "        ...,\n",
      "        [ 0.0204,  0.0323,  0.0146,  ...,  0.0011, -0.0122, -0.0178],\n",
      "        [ 0.0208,  0.0207,  0.0281,  ...,  0.0312, -0.0183,  0.0190],\n",
      "        [ 0.0218, -0.0043, -0.0134,  ...,  0.0118,  0.0035, -0.0315]],\n",
      "       requires_grad=True)\n",
      "Parameter containing:\n",
      "tensor([ 2.2446e-02, -2.8614e-02, -1.0825e-02, -5.5553e-03,  1.3387e-02,\n",
      "         1.4144e-02,  1.7679e-02, -2.8599e-02,  2.5547e-02, -3.0044e-02,\n",
      "        -3.2460e-02,  3.5667e-03,  1.9432e-02, -2.4006e-02, -1.0038e-02,\n",
      "         2.9536e-02, -8.5727e-03,  1.2081e-02, -2.0049e-03, -2.2334e-02,\n",
      "        -1.2397e-02, -1.0643e-02, -1.4918e-03, -3.4876e-02,  2.8550e-02,\n",
      "        -2.2120e-02, -1.9777e-02,  1.2963e-02,  3.1608e-02,  1.3452e-02,\n",
      "         1.3192e-02, -9.3663e-03, -1.2513e-03,  1.8478e-03, -1.3484e-02,\n",
      "        -1.9300e-02,  1.3874e-02, -1.5811e-02, -3.1172e-02, -2.8554e-02,\n",
      "         2.8510e-02,  3.2900e-02, -2.5993e-02, -1.5434e-02, -3.2236e-02,\n",
      "        -2.3682e-02,  1.0389e-02, -7.6570e-03,  1.2837e-02, -2.9175e-02,\n",
      "         3.2207e-02,  3.3245e-03, -3.3578e-02,  2.2097e-02, -7.4122e-03,\n",
      "         3.3040e-02,  1.8565e-02, -1.9347e-02,  4.8442e-03, -7.4165e-03,\n",
      "         3.0365e-02,  2.1530e-03, -3.3665e-02, -2.2906e-02,  1.7465e-02,\n",
      "         2.0363e-02, -1.1569e-03,  1.3465e-02, -2.2358e-02, -1.9109e-02,\n",
      "         2.0437e-02,  2.5563e-02,  2.8526e-02,  2.3177e-02, -3.5667e-02,\n",
      "        -2.2208e-02, -4.1764e-03, -1.6578e-02,  2.9598e-03, -1.7963e-02,\n",
      "         1.5653e-02, -1.8024e-02, -3.1321e-02,  4.1980e-03, -3.1894e-02,\n",
      "         2.1663e-02,  3.3347e-02, -3.1669e-02, -1.8580e-02,  6.7905e-03,\n",
      "        -5.1063e-04,  4.0175e-03, -1.7044e-02, -1.5555e-02, -2.4624e-02,\n",
      "         1.2636e-02,  8.8217e-03,  4.6200e-03, -3.1728e-04,  7.2112e-03,\n",
      "        -1.9501e-02,  8.6878e-03,  1.5883e-02, -1.1328e-02,  1.5730e-03,\n",
      "        -7.1608e-03,  2.9923e-02, -1.1720e-02, -6.2846e-06, -1.3777e-02,\n",
      "        -2.0895e-02, -2.0608e-02, -2.5143e-02,  2.0369e-02, -3.3510e-02,\n",
      "        -2.7173e-02, -2.3546e-02, -2.8588e-02,  1.8628e-02, -6.2102e-03,\n",
      "        -2.5244e-02, -2.6716e-02, -1.4320e-02,  2.5884e-02,  1.5719e-02,\n",
      "        -1.2079e-02,  1.8977e-02,  2.9005e-02], requires_grad=True)\n"
     ]
    }
   ],
   "source": [
    "# Rebuild the network using my class\n",
    "model = Network()\n",
    "\n",
    "# View the initial weights and bias\n",
    "print(model.hidden1.weight)\n",
    "print(model.hidden1.bias)"
   ]
  },
  {
   "cell_type": "markdown",
   "metadata": {},
   "source": [
    "For custom initialization, we want to modify these tensors in place. These are actually autograd *Variables*, so we need to get back the actual tensors with `model.fc1.weight.data`. Once we have the tensors, we can fill them with zeros (for biases) or random normal values."
   ]
  },
  {
   "cell_type": "code",
   "execution_count": 21,
   "metadata": {
    "collapsed": true
   },
   "outputs": [
    {
     "data": {
      "text/plain": [
       "tensor([0., 0., 0., 0., 0., 0., 0., 0., 0., 0., 0., 0., 0., 0., 0., 0., 0., 0., 0., 0., 0., 0., 0., 0.,\n",
       "        0., 0., 0., 0., 0., 0., 0., 0., 0., 0., 0., 0., 0., 0., 0., 0., 0., 0., 0., 0., 0., 0., 0., 0.,\n",
       "        0., 0., 0., 0., 0., 0., 0., 0., 0., 0., 0., 0., 0., 0., 0., 0., 0., 0., 0., 0., 0., 0., 0., 0.,\n",
       "        0., 0., 0., 0., 0., 0., 0., 0., 0., 0., 0., 0., 0., 0., 0., 0., 0., 0., 0., 0., 0., 0., 0., 0.,\n",
       "        0., 0., 0., 0., 0., 0., 0., 0., 0., 0., 0., 0., 0., 0., 0., 0., 0., 0., 0., 0., 0., 0., 0., 0.,\n",
       "        0., 0., 0., 0., 0., 0., 0., 0.])"
      ]
     },
     "execution_count": 21,
     "metadata": {},
     "output_type": "execute_result"
    }
   ],
   "source": [
    "# Set biases to all zeros\n",
    "model.hidden1.bias.data.fill_(0)"
   ]
  },
  {
   "cell_type": "code",
   "execution_count": 22,
   "metadata": {
    "collapsed": true
   },
   "outputs": [
    {
     "data": {
      "text/plain": [
       "tensor([[-0.0077,  0.0067,  0.0060,  ...,  0.0067,  0.0017, -0.0016],\n",
       "        [ 0.0123,  0.0008, -0.0070,  ...,  0.0048, -0.0187,  0.0017],\n",
       "        [-0.0251,  0.0135, -0.0025,  ...,  0.0197,  0.0118, -0.0047],\n",
       "        ...,\n",
       "        [-0.0009,  0.0138, -0.0127,  ..., -0.0036, -0.0163, -0.0050],\n",
       "        [-0.0076, -0.0059, -0.0046,  ..., -0.0037,  0.0084,  0.0136],\n",
       "        [ 0.0015, -0.0051, -0.0121,  ..., -0.0153,  0.0020, -0.0120]])"
      ]
     },
     "execution_count": 22,
     "metadata": {},
     "output_type": "execute_result"
    }
   ],
   "source": [
    "# sample from random normal with standard dev = 0.01\n",
    "model.hidden1.weight.data.normal_(std=0.01)"
   ]
  },
  {
   "cell_type": "markdown",
   "metadata": {},
   "source": [
    "### Forward pass\n",
    "\n",
    "Now that we have a network, let's see what happens when we pass in an image."
   ]
  },
  {
   "cell_type": "code",
   "execution_count": 23,
   "metadata": {
    "collapsed": true
   },
   "outputs": [
    {
     "data": {
      "image/png": "[encoded data removed]",
      "text/plain": [
       "<Figure size 432x648 with 2 Axes>"
      ]
     },
     "metadata": {
      "image/png": {
       "height": 226,
       "width": 423
      },
      "needs_background": "light"
     },
     "output_type": "display_data"
    }
   ],
   "source": [
    "# Grab some data \n",
    "dataiter = iter(trainloader)\n",
    "images, labels = dataiter.next()\n",
    "\n",
    "# Resize images into a 1D vector, new shape is (batch size, color channels, image pixels) \n",
    "images.resize_(64, 1, 784)\n",
    "# or images.resize_(images.shape[0], 1, 784) to automatically get batch size\n",
    "\n",
    "# Forward pass through the network\n",
    "img_idx = 0\n",
    "ps = model.forward(images[img_idx,:])\n",
    "\n",
    "img = images[img_idx]\n",
    "helper.view_classify(img.view(1, 28, 28), ps)"
   ]
  },
  {
   "cell_type": "markdown",
   "metadata": {},
   "source": [
    "As you can see above, our network has basically no idea what this digit is. It's because we haven't trained it yet, all the weights are random!\n",
    "\n",
    "### Using `nn.Sequential`\n",
    "\n",
    "PyTorch provides a convenient way to build networks like this where a tensor is passed sequentially through operations, `nn.Sequential` ([documentation](https://pytorch.org/docs/master/nn.html#torch.nn.Sequential)). Using this to build the equivalent network:"
   ]
  },
  {
   "cell_type": "code",
   "execution_count": 24,
   "metadata": {
    "collapsed": true
   },
   "outputs": [
    {
     "name": "stdout",
     "output_type": "stream",
     "text": [
      "Sequential(\n",
      "  (0): Linear(in_features=784, out_features=128, bias=True)\n",
      "  (1): ReLU()\n",
      "  (2): Linear(in_features=128, out_features=64, bias=True)\n",
      "  (3): ReLU()\n",
      "  (4): Linear(in_features=64, out_features=10, bias=True)\n",
      "  (5): Softmax()\n",
      ")\n"
     ]
    },
    {
     "data": {
      "image/png": "[encoded data removed]",
      "text/plain": [
       "<Figure size 432x648 with 2 Axes>"
      ]
     },
     "metadata": {
      "image/png": {
       "height": 226,
       "width": 423
      },
      "needs_background": "light"
     },
     "output_type": "display_data"
    }
   ],
   "source": [
    "# Hyperparameters for our network\n",
    "input_size = 784\n",
    "hidden_sizes = [128, 64]\n",
    "output_size = 10\n",
    "\n",
    "# Build a feed-forward network\n",
    "model = nn.Sequential(nn.Linear(input_size, hidden_sizes[0]),\n",
    "                      nn.ReLU(),\n",
    "                      nn.Linear(hidden_sizes[0], hidden_sizes[1]),\n",
    "                      nn.ReLU(),\n",
    "                      nn.Linear(hidden_sizes[1], output_size),\n",
    "                      nn.Softmax(dim=1))\n",
    "print(model)\n",
    "\n",
    "# Forward pass through the network and display output\n",
    "images, labels = next(iter(trainloader))\n",
    "images.resize_(images.shape[0], 1, 784)\n",
    "ps = model.forward(images[0,:])\n",
    "helper.view_classify(images[0].view(1, 28, 28), ps)"
   ]
  },
  {
   "cell_type": "markdown",
   "metadata": {},
   "source": [
    "Here our model is the same as before: 784 input units, a hidden layer with 128 units, ReLU activation, 64 unit hidden layer, another ReLU, then the output layer with 10 units, and the softmax output.\n",
    "\n",
    "The operations are availble by passing in the appropriate index. For example, if you want to get first Linear operation and look at the weights, you'd use `model[0]`."
   ]
  },
  {
   "cell_type": "code",
   "execution_count": 25,
   "metadata": {
    "collapsed": true
   },
   "outputs": [
    {
     "name": "stdout",
     "output_type": "stream",
     "text": [
      "Linear(in_features=784, out_features=128, bias=True)\n"
     ]
    },
    {
     "data": {
      "text/plain": [
       "Parameter containing:\n",
       "tensor([[ 0.0146, -0.0356,  0.0194,  ...,  0.0090, -0.0089, -0.0002],\n",
       "        [ 0.0187, -0.0190, -0.0023,  ..., -0.0135,  0.0357, -0.0128],\n",
       "        [-0.0310,  0.0045,  0.0105,  ..., -0.0013, -0.0181, -0.0058],\n",
       "        ...,\n",
       "        [ 0.0096,  0.0292,  0.0350,  ..., -0.0020,  0.0247, -0.0150],\n",
       "        [ 0.0150,  0.0243, -0.0227,  ..., -0.0086, -0.0221, -0.0011],\n",
       "        [ 0.0151, -0.0258,  0.0333,  ..., -0.0107,  0.0171, -0.0214]],\n",
       "       requires_grad=True)"
      ]
     },
     "execution_count": 25,
     "metadata": {},
     "output_type": "execute_result"
    }
   ],
   "source": [
    "print(model[0])\n",
    "model[0].weight"
   ]
  },
  {
   "cell_type": "markdown",
   "metadata": {},
   "source": [
    "You can also pass in an `OrderedDict` to name the individual layers and operations, instead of using incremental integers. Note that dictionary keys must be unique, so _each operation must have a different name_."
   ]
  },
  {
   "cell_type": "code",
   "execution_count": 26,
   "metadata": {
    "collapsed": true
   },
   "outputs": [
    {
     "data": {
      "text/plain": [
       "Sequential(\n",
       "  (fc1): Linear(in_features=784, out_features=128, bias=True)\n",
       "  (relu1): ReLU()\n",
       "  (fc2): Linear(in_features=128, out_features=64, bias=True)\n",
       "  (relu2): ReLU()\n",
       "  (output): Linear(in_features=64, out_features=10, bias=True)\n",
       "  (softmax): Softmax()\n",
       ")"
      ]
     },
     "execution_count": 26,
     "metadata": {},
     "output_type": "execute_result"
    }
   ],
   "source": [
    "from collections import OrderedDict\n",
    "model = nn.Sequential(OrderedDict([\n",
    "                      ('fc1', nn.Linear(input_size, hidden_sizes[0])),\n",
    "                      ('relu1', nn.ReLU()),\n",
    "                      ('fc2', nn.Linear(hidden_sizes[0], hidden_sizes[1])),\n",
    "                      ('relu2', nn.ReLU()),\n",
    "                      ('output', nn.Linear(hidden_sizes[1], output_size)),\n",
    "                      ('softmax', nn.Softmax(dim=1))]))\n",
    "model"
   ]
  },
  {
   "cell_type": "markdown",
   "metadata": {},
   "source": [
    "Now you can access layers either by integer or the name"
   ]
  },
  {
   "cell_type": "code",
   "execution_count": 27,
   "metadata": {
    "collapsed": true
   },
   "outputs": [
    {
     "name": "stdout",
     "output_type": "stream",
     "text": [
      "Linear(in_features=784, out_features=128, bias=True)\n",
      "Linear(in_features=784, out_features=128, bias=True)\n"
     ]
    }
   ],
   "source": [
    "print(model[0])\n",
    "print(model.fc1)"
   ]
  },
  {
   "cell_type": "markdown",
   "metadata": {},
   "source": [
    "In the next notebook, we'll see how we can train a neural network to accuractly predict the numbers appearing in the MNIST images."
   ]
  }
 ],
 "metadata": {
  "kernelspec": {
   "display_name": "Python 3",
   "language": "python",
   "name": "python3"
  },
  "language_info": {
   "codemirror_mode": {
    "name": "ipython",
    "version": 3
   },
   "file_extension": ".py",
   "mimetype": "text/x-python",
   "name": "python",
   "nbconvert_exporter": "python",
   "pygments_lexer": "ipython3",
   "version": "3.6.8"
  }
 },
 "nbformat": 4,
 "nbformat_minor": 2
}
