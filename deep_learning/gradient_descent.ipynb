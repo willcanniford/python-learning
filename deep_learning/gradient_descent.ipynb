{
 "cells": [
  {
   "cell_type": "markdown",
   "metadata": {},
   "source": [
    "## Gradient Descent with Squared Errors \n",
    "A common metric for measuring the error in a neural network is Sum of Squared Errors (SSE). The SSE is a good choice for a few reasons. The square ensures the error is always positive and larger errors are penalized more than smaller errors due the differences between the predictions and the observed values being squared, rather than the absolute being taken for example.\n",
    "\n",
    "By using gradient descent we can update the weights of the model so that the error function is minimised the most with each iteration, or learning step. To find the 'direction' that the weights must go in, we must calculate the *gradient* of the squared error. \n",
    "\n",
    "> Gradient is another term for the *rate of change* or *slope*\n",
    "\n",
    "To calculate this rate of change, we can turn to derivatives. The derivative will return the gradient of a given function at a given point along that function. At each step during the gradient descent process you calculate the derivative and update your weights in the relevant direction, thus 'descending' the error function and minimising the error of your model. \n",
    "\n",
    "Since we are looking to minimise the error, our direction will be opposite of the slope, or the gradient. This process relies on multi-variate calculus [(Khan Academy)](https://www.khanacademy.org/math/multivariable-calculus) to find the partial derivative of the error function in respect to each input.  \n",
    "\n",
    "We update the weights by adding the new weights (obtained through the partial derivative) multiplied by a constant known as the *learning rate* which allows us to control the size of the steps that are taken by the gradient descent process. "
   ]
  }
 ],
 "metadata": {
  "kernelspec": {
   "display_name": "Python 3",
   "language": "python",
   "name": "python3"
  },
  "language_info": {
   "codemirror_mode": {
    "name": "ipython",
    "version": 3
   },
   "file_extension": ".py",
   "mimetype": "text/x-python",
   "name": "python",
   "nbconvert_exporter": "python",
   "pygments_lexer": "ipython3",
   "version": "3.7.0"
  }
 },
 "nbformat": 4,
 "nbformat_minor": 2
}
