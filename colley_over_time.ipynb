{
 "cells": [
  {
   "cell_type": "code",
   "execution_count": 1,
   "metadata": {},
   "outputs": [],
   "source": [
    "import numpy as np\n",
    "import pandas as pd"
   ]
  },
  {
   "cell_type": "code",
   "execution_count": 2,
   "metadata": {},
   "outputs": [],
   "source": [
    "def create_fixture_matrix():\n",
    "    matrix = np.zeros((2,2))\n",
    "    np.fill_diagonal(matrix, 2)\n",
    "    return matrix\n",
    "\n",
    "def add_fixture():\n",
    "    pass\n",
    "\n",
    "def add_player(existing_matrix, isFixture=True):\n",
    "    # We want to reshape the matrix/array to include an additional player\n",
    "    n = existing_matrix.shape[0]\n",
    "    new_matrix = np.insert(existing_matrix, n, 0, axis=1)\n",
    "    new_row = np.zeros((1, n + 1))\n",
    "    if isFixture:\n",
    "        new_row[0][n] = 2\n",
    "    return np.append(new_matrix, new_row, axis=0)\n",
    "\n",
    "def calculate_win_scores(group_results_matrix):\n",
    "    wins = np.array(group_results_matrix).sum(axis=1)\n",
    "    losses = np.array(group_results_matrix).sum(axis=0)\n",
    "    win_scores = 1 + ((wins - losses)) / 2\n",
    "    return win_scores\n",
    "\n",
    "def check_player(player, player_arr):\n",
    "    result = np.where(np.array(player_arr) == player)\n",
    "    return len(result[0])"
   ]
  },
  {
   "cell_type": "code",
   "execution_count": 3,
   "metadata": {},
   "outputs": [
    {
     "data": {
      "text/html": [
       "<div>\n",
       "<style scoped>\n",
       "    .dataframe tbody tr th:only-of-type {\n",
       "        vertical-align: middle;\n",
       "    }\n",
       "\n",
       "    .dataframe tbody tr th {\n",
       "        vertical-align: top;\n",
       "    }\n",
       "\n",
       "    .dataframe thead th {\n",
       "        text-align: right;\n",
       "    }\n",
       "</style>\n",
       "<table border=\"1\" class=\"dataframe\">\n",
       "  <thead>\n",
       "    <tr style=\"text-align: right;\">\n",
       "      <th></th>\n",
       "      <th>player_1</th>\n",
       "      <th>player_2</th>\n",
       "      <th>score_1</th>\n",
       "      <th>score_2</th>\n",
       "    </tr>\n",
       "  </thead>\n",
       "  <tbody>\n",
       "    <tr>\n",
       "      <th>0</th>\n",
       "      <td>1</td>\n",
       "      <td>2</td>\n",
       "      <td>10</td>\n",
       "      <td>6</td>\n",
       "    </tr>\n",
       "    <tr>\n",
       "      <th>1</th>\n",
       "      <td>1</td>\n",
       "      <td>2</td>\n",
       "      <td>10</td>\n",
       "      <td>3</td>\n",
       "    </tr>\n",
       "    <tr>\n",
       "      <th>2</th>\n",
       "      <td>1</td>\n",
       "      <td>3</td>\n",
       "      <td>5</td>\n",
       "      <td>10</td>\n",
       "    </tr>\n",
       "    <tr>\n",
       "      <th>3</th>\n",
       "      <td>2</td>\n",
       "      <td>3</td>\n",
       "      <td>10</td>\n",
       "      <td>3</td>\n",
       "    </tr>\n",
       "    <tr>\n",
       "      <th>4</th>\n",
       "      <td>3</td>\n",
       "      <td>1</td>\n",
       "      <td>7</td>\n",
       "      <td>10</td>\n",
       "    </tr>\n",
       "    <tr>\n",
       "      <th>5</th>\n",
       "      <td>2</td>\n",
       "      <td>3</td>\n",
       "      <td>4</td>\n",
       "      <td>10</td>\n",
       "    </tr>\n",
       "    <tr>\n",
       "      <th>6</th>\n",
       "      <td>1</td>\n",
       "      <td>4</td>\n",
       "      <td>10</td>\n",
       "      <td>1</td>\n",
       "    </tr>\n",
       "    <tr>\n",
       "      <th>7</th>\n",
       "      <td>4</td>\n",
       "      <td>2</td>\n",
       "      <td>10</td>\n",
       "      <td>7</td>\n",
       "    </tr>\n",
       "  </tbody>\n",
       "</table>\n",
       "</div>"
      ],
      "text/plain": [
       "   player_1  player_2  score_1  score_2\n",
       "0         1         2       10        6\n",
       "1         1         2       10        3\n",
       "2         1         3        5       10\n",
       "3         2         3       10        3\n",
       "4         3         1        7       10\n",
       "5         2         3        4       10\n",
       "6         1         4       10        1\n",
       "7         4         2       10        7"
      ]
     },
     "execution_count": 3,
     "metadata": {},
     "output_type": "execute_result"
    }
   ],
   "source": [
    "results = pd.read_csv('colley.csv')\n",
    "results"
   ]
  },
  {
   "cell_type": "markdown",
   "metadata": {},
   "source": [
    "We are going to want to loop through the results 1 at a time and update metrics. "
   ]
  },
  {
   "cell_type": "code",
   "execution_count": 4,
   "metadata": {},
   "outputs": [
    {
     "name": "stdout",
     "output_type": "stream",
     "text": [
      "[0.625 0.375]\n",
      "[0.66666667 0.33333333]\n",
      "[0.54545455 0.27272727 0.68181818]\n",
      "[0.57142857 0.42857143 0.5       ]\n",
      "[0.625  0.4375 0.4375]\n",
      "[0.625 0.375 0.5  ]\n",
      "[0.67857143 0.40178571 0.52678571 0.39285714]\n",
      "[0.66666667 0.33333333 0.5        0.5       ]\n"
     ]
    }
   ],
   "source": [
    "# Create results and fixture matrices\n",
    "group_results_matrix = np.zeros((2,2))\n",
    "fixture_matrix = create_fixture_matrix()\n",
    "\n",
    "# Initialise the players array using row 1\n",
    "players = []\n",
    "players.append(results.iloc[0]['player_1'])\n",
    "players.append(results.iloc[0]['player_2'])\n",
    "\n",
    "for i in results.index:\n",
    "    row = results.iloc[i]\n",
    "    player_1 = row['player_1']\n",
    "    player_2 = row['player_2']\n",
    "    \n",
    "    # Check to see if a new player has played\n",
    "    if not check_player(player_1, players):\n",
    "        players.append(player_1)\n",
    "        fixture_matrix = add_player(fixture_matrix)\n",
    "        group_results_matrix = add_player(group_results_matrix, False)\n",
    "        \n",
    "    if not check_player(player_2, players):\n",
    "        players.append(player_2)\n",
    "        fixture_matrix = add_player(fixture_matrix)\n",
    "        group_results_matrix = add_player(group_results_matrix, False)\n",
    "    \n",
    "    player_1_index = np.where(players == player_1)[0][0]    \n",
    "    player_2_index = np.where(players == player_2)[0][0]\n",
    "    \n",
    "    # Calculate winner here and update results matrix\n",
    "    if row['score_1'] > row['score_2']:\n",
    "        group_results_matrix[player_1_index][player_2_index] += 1\n",
    "    else:\n",
    "        group_results_matrix[player_2_index][player_1_index] += 1\n",
    "    \n",
    "    # Increment total games for both players \n",
    "    fixture_matrix[player_1_index][player_1_index] += 1\n",
    "    fixture_matrix[player_2_index][player_2_index] += 1\n",
    "    \n",
    "    # Add the fixture to both players overall\n",
    "    fixture_matrix[player_1_index][player_2_index] -= 1\n",
    "    fixture_matrix[player_2_index][player_1_index] -= 1\n",
    "    \n",
    "    win_scores = calculate_win_scores(group_results_matrix)\n",
    "    \n",
    "    print(np.linalg.solve(fixture_matrix, win_scores))\n",
    "    "
   ]
  },
  {
   "cell_type": "code",
   "execution_count": 5,
   "metadata": {},
   "outputs": [
    {
     "data": {
      "text/plain": [
       "[1, 2, 3, 4]"
      ]
     },
     "execution_count": 5,
     "metadata": {},
     "output_type": "execute_result"
    }
   ],
   "source": [
    "players"
   ]
  },
  {
   "cell_type": "code",
   "execution_count": 6,
   "metadata": {},
   "outputs": [
    {
     "data": {
      "text/plain": [
       "array([[ 7., -2., -2., -1.],\n",
       "       [-2.,  7., -2., -1.],\n",
       "       [-2., -2.,  6.,  0.],\n",
       "       [-1., -1.,  0.,  4.]])"
      ]
     },
     "execution_count": 6,
     "metadata": {},
     "output_type": "execute_result"
    }
   ],
   "source": [
    "fixture_matrix"
   ]
  },
  {
   "cell_type": "code",
   "execution_count": 7,
   "metadata": {},
   "outputs": [
    {
     "data": {
      "text/plain": [
       "array([[0., 2., 1., 1.],\n",
       "       [0., 0., 1., 0.],\n",
       "       [1., 1., 0., 0.],\n",
       "       [0., 1., 0., 0.]])"
      ]
     },
     "execution_count": 7,
     "metadata": {},
     "output_type": "execute_result"
    }
   ],
   "source": [
    "group_results_matrix"
   ]
  },
  {
   "cell_type": "code",
   "execution_count": 8,
   "metadata": {},
   "outputs": [],
   "source": [
    "wins = np.array(group_results_matrix).sum(axis=1)\n",
    "losses = np.array(group_results_matrix).sum(axis=0)"
   ]
  },
  {
   "cell_type": "code",
   "execution_count": 9,
   "metadata": {},
   "outputs": [
    {
     "data": {
      "text/plain": [
       "array([4., 1., 2., 1.])"
      ]
     },
     "execution_count": 9,
     "metadata": {},
     "output_type": "execute_result"
    }
   ],
   "source": [
    "wins"
   ]
  },
  {
   "cell_type": "code",
   "execution_count": 10,
   "metadata": {},
   "outputs": [
    {
     "data": {
      "text/plain": [
       "array([1., 4., 2., 1.])"
      ]
     },
     "execution_count": 10,
     "metadata": {},
     "output_type": "execute_result"
    }
   ],
   "source": [
    "losses"
   ]
  }
 ],
 "metadata": {
  "kernelspec": {
   "display_name": "Python 3",
   "language": "python",
   "name": "python3"
  },
  "language_info": {
   "codemirror_mode": {
    "name": "ipython",
    "version": 3
   },
   "file_extension": ".py",
   "mimetype": "text/x-python",
   "name": "python",
   "nbconvert_exporter": "python",
   "pygments_lexer": "ipython3",
   "version": "3.7.5"
  }
 },
 "nbformat": 4,
 "nbformat_minor": 4
}
