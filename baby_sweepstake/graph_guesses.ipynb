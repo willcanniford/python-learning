{
 "cells": [
  {
   "cell_type": "code",
   "execution_count": 33,
   "metadata": {},
   "outputs": [],
   "source": [
    "import matplotlib.pyplot as plt\n",
    "import pandas as pd "
   ]
  },
  {
   "cell_type": "code",
   "execution_count": 100,
   "metadata": {},
   "outputs": [
    {
     "data": {
      "text/html": [
       "<div>\n",
       "<style scoped>\n",
       "    .dataframe tbody tr th:only-of-type {\n",
       "        vertical-align: middle;\n",
       "    }\n",
       "\n",
       "    .dataframe tbody tr th {\n",
       "        vertical-align: top;\n",
       "    }\n",
       "\n",
       "    .dataframe thead th {\n",
       "        text-align: right;\n",
       "    }\n",
       "</style>\n",
       "<table border=\"1\" class=\"dataframe\">\n",
       "  <thead>\n",
       "    <tr style=\"text-align: right;\">\n",
       "      <th></th>\n",
       "      <th>player</th>\n",
       "      <th>guess</th>\n",
       "      <th>guess_rank</th>\n",
       "    </tr>\n",
       "  </thead>\n",
       "  <tbody>\n",
       "    <tr>\n",
       "      <th>4</th>\n",
       "      <td>Will</td>\n",
       "      <td>2020-05-14 18:00:00</td>\n",
       "      <td>1</td>\n",
       "    </tr>\n",
       "    <tr>\n",
       "      <th>3</th>\n",
       "      <td>Will</td>\n",
       "      <td>2020-05-17 12:00:00</td>\n",
       "      <td>2</td>\n",
       "    </tr>\n",
       "    <tr>\n",
       "      <th>1</th>\n",
       "      <td>Will</td>\n",
       "      <td>2020-05-19 01:35:00</td>\n",
       "      <td>3</td>\n",
       "    </tr>\n",
       "    <tr>\n",
       "      <th>0</th>\n",
       "      <td>Will</td>\n",
       "      <td>2020-05-29 12:17:00</td>\n",
       "      <td>4</td>\n",
       "    </tr>\n",
       "    <tr>\n",
       "      <th>2</th>\n",
       "      <td>Will</td>\n",
       "      <td>2020-06-01 04:00:00</td>\n",
       "      <td>5</td>\n",
       "    </tr>\n",
       "  </tbody>\n",
       "</table>\n",
       "</div>"
      ],
      "text/plain": [
       "  player               guess  guess_rank\n",
       "4   Will 2020-05-14 18:00:00           1\n",
       "3   Will 2020-05-17 12:00:00           2\n",
       "1   Will 2020-05-19 01:35:00           3\n",
       "0   Will 2020-05-29 12:17:00           4\n",
       "2   Will 2020-06-01 04:00:00           5"
      ]
     },
     "execution_count": 100,
     "metadata": {},
     "output_type": "execute_result"
    }
   ],
   "source": [
    "data = pd.read_csv('test_data.csv')\n",
    "data[\"guess\"] = pd.to_datetime(data[\"guess\"])\n",
    "data[\"guess_rank\"] = data.rank().guess.astype(int)\n",
    "data.sort_values(\"guess_rank\")"
   ]
  },
  {
   "cell_type": "code",
   "execution_count": 101,
   "metadata": {},
   "outputs": [],
   "source": [
    "def find_midpoint(guess_1, guess_2):\n",
    "    return(guess_1 + (guess_2 - guess_1)/2)"
   ]
  },
  {
   "cell_type": "code",
   "execution_count": 102,
   "metadata": {},
   "outputs": [],
   "source": [
    "first = data[data.guess_rank == 1].guess.values\n",
    "second = data[data.guess_rank == 2].guess.values"
   ]
  },
  {
   "cell_type": "code",
   "execution_count": 103,
   "metadata": {},
   "outputs": [
    {
     "data": {
      "text/plain": [
       "array(['2020-05-16T03:00:00.000000000'], dtype='datetime64[ns]')"
      ]
     },
     "execution_count": 103,
     "metadata": {},
     "output_type": "execute_result"
    }
   ],
   "source": [
    "find_midpoint(first, second)"
   ]
  },
  {
   "cell_type": "code",
   "execution_count": 132,
   "metadata": {},
   "outputs": [],
   "source": [
    "boundaries = pd.DataFrame()\n",
    "\n",
    "for i in range(1, data.shape[0] + 1):\n",
    "    if i != 1 and i != data.shape[0]:\n",
    "        idx_1 = data[data.guess_rank == i - 1].guess.values\n",
    "        idx_2 = data[data.guess_rank == i].guess.values \n",
    "        idx_3 = data[data.guess_rank == i + 1].guess.values\n",
    "        lower = find_midpoint(idx_1, idx_2)\n",
    "        upper = find_midpoint(idx_2, idx_3)\n",
    "        iteration = pd.DataFrame({'guess_rank': i, 'guess':idx_2, 'lower':lower, 'upper':upper})\n",
    "        boundaries = pd.concat([boundaries,iteration], ignore_index=True)\n",
    "    elif i == data.shape[0]:\n",
    "        idx_1 = data[data.guess_rank == i - 1].guess.values\n",
    "        idx_2 = data[data.guess_rank == i].guess.values \n",
    "        lower = find_midpoint(idx_1, idx_2)\n",
    "        iteration = pd.DataFrame({'guess_rank': i, 'guess':idx_2, 'lower':lower})\n",
    "        boundaries = pd.concat([boundaries,iteration], ignore_index=True)\n",
    "    else:\n",
    "        idx_2 = data[data.guess_rank == i].guess.values \n",
    "        idx_3 = data[data.guess_rank == i + 1].guess.values\n",
    "        upper = find_midpoint(idx_2, idx_3)\n",
    "        iteration = pd.DataFrame({'guess_rank': i, 'guess':idx_2, 'upper':upper})\n",
    "        boundaries = pd.concat([boundaries,iteration], ignore_index=True)"
   ]
  },
  {
   "cell_type": "code",
   "execution_count": 133,
   "metadata": {},
   "outputs": [
    {
     "data": {
      "text/html": [
       "<div>\n",
       "<style scoped>\n",
       "    .dataframe tbody tr th:only-of-type {\n",
       "        vertical-align: middle;\n",
       "    }\n",
       "\n",
       "    .dataframe tbody tr th {\n",
       "        vertical-align: top;\n",
       "    }\n",
       "\n",
       "    .dataframe thead th {\n",
       "        text-align: right;\n",
       "    }\n",
       "</style>\n",
       "<table border=\"1\" class=\"dataframe\">\n",
       "  <thead>\n",
       "    <tr style=\"text-align: right;\">\n",
       "      <th></th>\n",
       "      <th>player</th>\n",
       "      <th>guess</th>\n",
       "      <th>lower</th>\n",
       "      <th>upper</th>\n",
       "    </tr>\n",
       "    <tr>\n",
       "      <th>guess_rank</th>\n",
       "      <th></th>\n",
       "      <th></th>\n",
       "      <th></th>\n",
       "      <th></th>\n",
       "    </tr>\n",
       "  </thead>\n",
       "  <tbody>\n",
       "    <tr>\n",
       "      <th>1</th>\n",
       "      <td>Will</td>\n",
       "      <td>2020-05-14 18:00:00</td>\n",
       "      <td>NaT</td>\n",
       "      <td>2020-05-16 03:00:00</td>\n",
       "    </tr>\n",
       "    <tr>\n",
       "      <th>2</th>\n",
       "      <td>Will</td>\n",
       "      <td>2020-05-17 12:00:00</td>\n",
       "      <td>2020-05-16 03:00:00</td>\n",
       "      <td>2020-05-18 06:47:30</td>\n",
       "    </tr>\n",
       "    <tr>\n",
       "      <th>3</th>\n",
       "      <td>Will</td>\n",
       "      <td>2020-05-19 01:35:00</td>\n",
       "      <td>2020-05-18 06:47:30</td>\n",
       "      <td>2020-05-24 06:56:00</td>\n",
       "    </tr>\n",
       "    <tr>\n",
       "      <th>4</th>\n",
       "      <td>Will</td>\n",
       "      <td>2020-05-29 12:17:00</td>\n",
       "      <td>2020-05-24 06:56:00</td>\n",
       "      <td>2020-05-30 20:08:30</td>\n",
       "    </tr>\n",
       "    <tr>\n",
       "      <th>5</th>\n",
       "      <td>Will</td>\n",
       "      <td>2020-06-01 04:00:00</td>\n",
       "      <td>2020-05-30 20:08:30</td>\n",
       "      <td>NaT</td>\n",
       "    </tr>\n",
       "  </tbody>\n",
       "</table>\n",
       "</div>"
      ],
      "text/plain": [
       "           player               guess               lower               upper\n",
       "guess_rank                                                                   \n",
       "1            Will 2020-05-14 18:00:00                 NaT 2020-05-16 03:00:00\n",
       "2            Will 2020-05-17 12:00:00 2020-05-16 03:00:00 2020-05-18 06:47:30\n",
       "3            Will 2020-05-19 01:35:00 2020-05-18 06:47:30 2020-05-24 06:56:00\n",
       "4            Will 2020-05-29 12:17:00 2020-05-24 06:56:00 2020-05-30 20:08:30\n",
       "5            Will 2020-06-01 04:00:00 2020-05-30 20:08:30                 NaT"
      ]
     },
     "execution_count": 133,
     "metadata": {},
     "output_type": "execute_result"
    }
   ],
   "source": [
    "joined = data.set_index('guess_rank').join(boundaries.set_index('guess_rank'), rsuffix='_r').sort_index()\n",
    "joined.loc[:, ['player','guess','lower','upper']]"
   ]
  },
  {
   "cell_type": "code",
   "execution_count": 176,
   "metadata": {},
   "outputs": [],
   "source": [
    "colors = ['r','g','b']"
   ]
  },
  {
   "cell_type": "code",
   "execution_count": 195,
   "metadata": {},
   "outputs": [
    {
     "data": {
      "image/png": "[encoded data removed]",
      "text/plain": [
       "<Figure size 432x288 with 1 Axes>"
      ]
     },
     "metadata": {
      "needs_background": "light"
     },
     "output_type": "display_data"
    }
   ],
   "source": [
    "#plt.scatter(joined.guess, [1,1,1,1,1])\n",
    "plt.scatter(joined.lower, [0.95, 0.95, 0.95, 0.95, 0.95], alpha=0.25)\n",
    "plt.scatter(joined.upper, [1.05,1.05,1.05,1.05,1.05], alpha=0.25)\n",
    "plt.xlim([joined.guess.min(), joined.guess.max()])\n",
    "plt.ylim([0.9,1.1])\n",
    "\n",
    "for index, i in enumerate(range(2, data.shape[0])):\n",
    "    lower = joined.loc[i, :].lower\n",
    "    upper = joined.loc[i, :].upper\n",
    "    plt.plot([lower, upper], [1,1], color=colors[index], linewidth = 5)\n",
    "    \n",
    "plt.scatter(joined.guess, [1,1,1,1,1], color='black', zorder=100)\n",
    "plt.xticks(rotation=30, ha='right')\n",
    "plt.grid(axis='x', alpha=0.5, which='major')\n",
    "#plt.plot([joined.guess.min(), joined.guess.max()], [0.95, 1.05], color='r', linewidth = 5)\n",
    "plt.show()"
   ]
  }
 ],
 "metadata": {
  "kernelspec": {
   "display_name": "Python 3",
   "language": "python",
   "name": "python3"
  },
  "language_info": {
   "codemirror_mode": {
    "name": "ipython",
    "version": 3
   },
   "file_extension": ".py",
   "mimetype": "text/x-python",
   "name": "python",
   "nbconvert_exporter": "python",
   "pygments_lexer": "ipython3",
   "version": "3.7.6"
  }
 },
 "nbformat": 4,
 "nbformat_minor": 4
}
